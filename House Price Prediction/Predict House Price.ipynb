{
 "cells": [
  {
   "cell_type": "markdown",
   "id": "modified-translator",
   "metadata": {},
   "source": [
    "# House Price Predict"
   ]
  },
  {
   "cell_type": "code",
   "execution_count": 11,
   "id": "ultimate-trainer",
   "metadata": {},
   "outputs": [],
   "source": [
    "import numpy as np\n",
    "import pandas as pd\n",
    "import tensorflow as tf\n",
    "import matplotlib.pyplot as plt\n",
    "import seaborn as sns\n",
    "import seaborn as sns\n",
    "from mpl_toolkits.mplot3d import Axes3D\n",
    "import folium\n",
    "from folium.plugins import HeatMap\n",
    "from sklearn.model_selection import train_test_split\n",
    "from sklearn import linear_model\n",
    "from sklearn.neighbors import KNeighborsRegressor\n",
    "from sklearn.preprocessing import PolynomialFeatures\n",
    "from sklearn import metrics\n",
    "from sklearn.model_selection import cross_val_score"
   ]
  },
  {
   "cell_type": "code",
   "execution_count": 2,
   "id": "precise-jerusalem",
   "metadata": {},
   "outputs": [],
   "source": [
    "df = pd.read_csv('kc_house_data.csv')"
   ]
  },
  {
   "cell_type": "code",
   "execution_count": 3,
   "id": "spatial-nurse",
   "metadata": {},
   "outputs": [
    {
     "data": {
      "text/html": [
       "<div>\n",
       "<style scoped>\n",
       "    .dataframe tbody tr th:only-of-type {\n",
       "        vertical-align: middle;\n",
       "    }\n",
       "\n",
       "    .dataframe tbody tr th {\n",
       "        vertical-align: top;\n",
       "    }\n",
       "\n",
       "    .dataframe thead th {\n",
       "        text-align: right;\n",
       "    }\n",
       "</style>\n",
       "<table border=\"1\" class=\"dataframe\">\n",
       "  <thead>\n",
       "    <tr style=\"text-align: right;\">\n",
       "      <th></th>\n",
       "      <th>id</th>\n",
       "      <th>date</th>\n",
       "      <th>price</th>\n",
       "      <th>bedrooms</th>\n",
       "      <th>bathrooms</th>\n",
       "      <th>sqft_living</th>\n",
       "      <th>sqft_lot</th>\n",
       "      <th>floors</th>\n",
       "      <th>waterfront</th>\n",
       "      <th>view</th>\n",
       "      <th>...</th>\n",
       "      <th>grade</th>\n",
       "      <th>sqft_above</th>\n",
       "      <th>sqft_basement</th>\n",
       "      <th>yr_built</th>\n",
       "      <th>yr_renovated</th>\n",
       "      <th>zipcode</th>\n",
       "      <th>lat</th>\n",
       "      <th>long</th>\n",
       "      <th>sqft_living15</th>\n",
       "      <th>sqft_lot15</th>\n",
       "    </tr>\n",
       "  </thead>\n",
       "  <tbody>\n",
       "    <tr>\n",
       "      <th>14647</th>\n",
       "      <td>1234000704</td>\n",
       "      <td>20150403T000000</td>\n",
       "      <td>1378000.0</td>\n",
       "      <td>5</td>\n",
       "      <td>3.50</td>\n",
       "      <td>3680</td>\n",
       "      <td>8680</td>\n",
       "      <td>2.0</td>\n",
       "      <td>0</td>\n",
       "      <td>0</td>\n",
       "      <td>...</td>\n",
       "      <td>9</td>\n",
       "      <td>3680</td>\n",
       "      <td>0</td>\n",
       "      <td>2003</td>\n",
       "      <td>0</td>\n",
       "      <td>98033</td>\n",
       "      <td>47.6575</td>\n",
       "      <td>-122.197</td>\n",
       "      <td>2020</td>\n",
       "      <td>8847</td>\n",
       "    </tr>\n",
       "    <tr>\n",
       "      <th>15599</th>\n",
       "      <td>619079016</td>\n",
       "      <td>20140602T000000</td>\n",
       "      <td>687000.0</td>\n",
       "      <td>4</td>\n",
       "      <td>3.25</td>\n",
       "      <td>4400</td>\n",
       "      <td>186846</td>\n",
       "      <td>2.0</td>\n",
       "      <td>0</td>\n",
       "      <td>0</td>\n",
       "      <td>...</td>\n",
       "      <td>9</td>\n",
       "      <td>4400</td>\n",
       "      <td>0</td>\n",
       "      <td>1993</td>\n",
       "      <td>0</td>\n",
       "      <td>98022</td>\n",
       "      <td>47.1593</td>\n",
       "      <td>-121.957</td>\n",
       "      <td>2280</td>\n",
       "      <td>186846</td>\n",
       "    </tr>\n",
       "    <tr>\n",
       "      <th>3288</th>\n",
       "      <td>1086100100</td>\n",
       "      <td>20140811T000000</td>\n",
       "      <td>476500.0</td>\n",
       "      <td>3</td>\n",
       "      <td>1.00</td>\n",
       "      <td>1060</td>\n",
       "      <td>8625</td>\n",
       "      <td>2.0</td>\n",
       "      <td>0</td>\n",
       "      <td>0</td>\n",
       "      <td>...</td>\n",
       "      <td>7</td>\n",
       "      <td>1060</td>\n",
       "      <td>0</td>\n",
       "      <td>1962</td>\n",
       "      <td>1997</td>\n",
       "      <td>98033</td>\n",
       "      <td>47.6615</td>\n",
       "      <td>-122.179</td>\n",
       "      <td>2010</td>\n",
       "      <td>8901</td>\n",
       "    </tr>\n",
       "    <tr>\n",
       "      <th>12929</th>\n",
       "      <td>4321200970</td>\n",
       "      <td>20140610T000000</td>\n",
       "      <td>555000.0</td>\n",
       "      <td>3</td>\n",
       "      <td>2.00</td>\n",
       "      <td>2180</td>\n",
       "      <td>4976</td>\n",
       "      <td>1.5</td>\n",
       "      <td>0</td>\n",
       "      <td>2</td>\n",
       "      <td>...</td>\n",
       "      <td>8</td>\n",
       "      <td>1680</td>\n",
       "      <td>500</td>\n",
       "      <td>1930</td>\n",
       "      <td>0</td>\n",
       "      <td>98126</td>\n",
       "      <td>47.5730</td>\n",
       "      <td>-122.380</td>\n",
       "      <td>1850</td>\n",
       "      <td>5000</td>\n",
       "    </tr>\n",
       "    <tr>\n",
       "      <th>14980</th>\n",
       "      <td>8089510170</td>\n",
       "      <td>20141027T000000</td>\n",
       "      <td>935000.0</td>\n",
       "      <td>5</td>\n",
       "      <td>4.50</td>\n",
       "      <td>4230</td>\n",
       "      <td>9701</td>\n",
       "      <td>2.0</td>\n",
       "      <td>0</td>\n",
       "      <td>0</td>\n",
       "      <td>...</td>\n",
       "      <td>10</td>\n",
       "      <td>4230</td>\n",
       "      <td>0</td>\n",
       "      <td>1999</td>\n",
       "      <td>0</td>\n",
       "      <td>98006</td>\n",
       "      <td>47.5444</td>\n",
       "      <td>-122.131</td>\n",
       "      <td>4130</td>\n",
       "      <td>12253</td>\n",
       "    </tr>\n",
       "  </tbody>\n",
       "</table>\n",
       "<p>5 rows × 21 columns</p>\n",
       "</div>"
      ],
      "text/plain": [
       "               id             date      price  bedrooms  bathrooms  \\\n",
       "14647  1234000704  20150403T000000  1378000.0         5       3.50   \n",
       "15599   619079016  20140602T000000   687000.0         4       3.25   \n",
       "3288   1086100100  20140811T000000   476500.0         3       1.00   \n",
       "12929  4321200970  20140610T000000   555000.0         3       2.00   \n",
       "14980  8089510170  20141027T000000   935000.0         5       4.50   \n",
       "\n",
       "       sqft_living  sqft_lot  floors  waterfront  view  ...  grade  \\\n",
       "14647         3680      8680     2.0           0     0  ...      9   \n",
       "15599         4400    186846     2.0           0     0  ...      9   \n",
       "3288          1060      8625     2.0           0     0  ...      7   \n",
       "12929         2180      4976     1.5           0     2  ...      8   \n",
       "14980         4230      9701     2.0           0     0  ...     10   \n",
       "\n",
       "       sqft_above  sqft_basement  yr_built  yr_renovated  zipcode      lat  \\\n",
       "14647        3680              0      2003             0    98033  47.6575   \n",
       "15599        4400              0      1993             0    98022  47.1593   \n",
       "3288         1060              0      1962          1997    98033  47.6615   \n",
       "12929        1680            500      1930             0    98126  47.5730   \n",
       "14980        4230              0      1999             0    98006  47.5444   \n",
       "\n",
       "          long  sqft_living15  sqft_lot15  \n",
       "14647 -122.197           2020        8847  \n",
       "15599 -121.957           2280      186846  \n",
       "3288  -122.179           2010        8901  \n",
       "12929 -122.380           1850        5000  \n",
       "14980 -122.131           4130       12253  \n",
       "\n",
       "[5 rows x 21 columns]"
      ]
     },
     "execution_count": 3,
     "metadata": {},
     "output_type": "execute_result"
    }
   ],
   "source": [
    "df.sample(5)"
   ]
  },
  {
   "cell_type": "code",
   "execution_count": 4,
   "id": "million-making",
   "metadata": {},
   "outputs": [],
   "source": [
    "column_names = df.columns"
   ]
  },
  {
   "cell_type": "code",
   "execution_count": 5,
   "id": "musical-swedish",
   "metadata": {},
   "outputs": [
    {
     "name": "stdout",
     "output_type": "stream",
     "text": [
      "id\n",
      "date\n",
      "price\n",
      "bedrooms\n",
      "bathrooms\n",
      "sqft_living\n",
      "sqft_lot\n",
      "floors\n",
      "waterfront\n",
      "view\n",
      "condition\n",
      "grade\n",
      "sqft_above\n",
      "sqft_basement\n",
      "yr_built\n",
      "yr_renovated\n",
      "zipcode\n",
      "lat\n",
      "long\n",
      "sqft_living15\n",
      "sqft_lot15\n"
     ]
    }
   ],
   "source": [
    "for i in column_names:\n",
    "    print(i)"
   ]
  },
  {
   "cell_type": "code",
   "execution_count": 19,
   "id": "increasing-memorial",
   "metadata": {},
   "outputs": [],
   "source": [
    "evaluation = pd.DataFrame({'Model': [],\n",
    "                           'Details':[],\n",
    "                           'Root Mean Squared Error (RMSE)':[],\n",
    "                           'R-squared (training)':[],\n",
    "                           'Adjusted R-squared (training)':[],\n",
    "                           'R-squared (test)':[],\n",
    "                           'Adjusted R-squared (test)':[],\n",
    "                           '5-Fold Cross Validation':[]})"
   ]
  },
  {
   "cell_type": "code",
   "execution_count": 8,
   "id": "prepared-hopkins",
   "metadata": {},
   "outputs": [
    {
     "data": {
      "text/plain": [
       "pandas.core.frame.DataFrame"
      ]
     },
     "execution_count": 8,
     "metadata": {},
     "output_type": "execute_result"
    }
   ],
   "source": [
    "type(evaluation)"
   ]
  },
  {
   "cell_type": "code",
   "execution_count": 9,
   "id": "stupid-jacob",
   "metadata": {},
   "outputs": [],
   "source": [
    "def adjustedR2(r2, n, k):\n",
    "    return r2 - (k - 1)/(n - k)*(1 - r2)"
   ]
  },
  {
   "cell_type": "markdown",
   "id": "suitable-royal",
   "metadata": {},
   "source": [
    "*Training Model*"
   ]
  },
  {
   "cell_type": "code",
   "execution_count": 12,
   "id": "entertaining-express",
   "metadata": {},
   "outputs": [],
   "source": [
    "train_data, test_data = train_test_split(df, train_size = 0.8, random_state = 25)"
   ]
  },
  {
   "cell_type": "code",
   "execution_count": 13,
   "id": "jewish-engineering",
   "metadata": {},
   "outputs": [
    {
     "data": {
      "text/plain": [
       "LinearRegression()"
      ]
     },
     "execution_count": 13,
     "metadata": {},
     "output_type": "execute_result"
    }
   ],
   "source": [
    "linear_reg_model = linear_model.LinearRegression()\n",
    "X_train = np.array(train_data['sqft_living'], dtype=pd.Series).reshape(-1, 1)\n",
    "Y_train = np.array(train_data['price'], dtype=pd.Series)\n",
    "linear_reg_model.fit(X_train, Y_train)"
   ]
  },
  {
   "cell_type": "code",
   "execution_count": 14,
   "id": "sexual-vegetable",
   "metadata": {},
   "outputs": [],
   "source": [
    "X_test = np.array(test_data['sqft_living'], dtype=pd.Series).reshape(-1, 1)\n",
    "Y_test = np.array(test_data['price'], dtype=pd.Series)\n",
    "\n",
    "predictions = linear_reg_model.predict(X_test)"
   ]
  },
  {
   "cell_type": "code",
   "execution_count": 16,
   "id": "impaired-union",
   "metadata": {},
   "outputs": [],
   "source": [
    "rmsesm = float(format(np.sqrt(metrics.mean_squared_error(Y_test, predictions)), '.3f'))\n",
    "rtrsm = float(format(linear_reg_model.score(X_train, Y_train), '.3f'))\n",
    "rtesm = float(format(linear_reg_model.score(X_test, Y_test), '.3f'))\n",
    "\n",
    "cross_validation = float(format(cross_val_score(\n",
    "    linear_reg_model, df[['sqft_living']],df['price'], cv=5\n",
    ").mean(), '.3f'))"
   ]
  },
  {
   "cell_type": "code",
   "execution_count": 17,
   "id": "activated-journalist",
   "metadata": {},
   "outputs": [
    {
     "name": "stdout",
     "output_type": "stream",
     "text": [
      "Average Price for test data: 544148.995836\n",
      "Intercept: -43302.23992546729\n",
      "Coefficient: [280.00665245]\n"
     ]
    }
   ],
   "source": [
    "print('Average Price for test data: {:3f}'.format(Y_test.mean()))\n",
    "print('Intercept: {}'.format(linear_reg_model.intercept_))\n",
    "print('Coefficient: {}'.format(linear_reg_model.coef_))"
   ]
  },
  {
   "cell_type": "code",
   "execution_count": 22,
   "id": "combined-ratio",
   "metadata": {},
   "outputs": [
    {
     "data": {
      "text/html": [
       "<div>\n",
       "<style scoped>\n",
       "    .dataframe tbody tr th:only-of-type {\n",
       "        vertical-align: middle;\n",
       "    }\n",
       "\n",
       "    .dataframe tbody tr th {\n",
       "        vertical-align: top;\n",
       "    }\n",
       "\n",
       "    .dataframe thead th {\n",
       "        text-align: right;\n",
       "    }\n",
       "</style>\n",
       "<table border=\"1\" class=\"dataframe\">\n",
       "  <thead>\n",
       "    <tr style=\"text-align: right;\">\n",
       "      <th></th>\n",
       "      <th>Model</th>\n",
       "      <th>Details</th>\n",
       "      <th>Root Mean Squared Error (RMSE)</th>\n",
       "      <th>R-squared (training)</th>\n",
       "      <th>Adjusted R-squared (training)</th>\n",
       "      <th>R-squared (test)</th>\n",
       "      <th>Adjusted R-squared (test)</th>\n",
       "      <th>5-Fold Cross Validation</th>\n",
       "    </tr>\n",
       "  </thead>\n",
       "  <tbody>\n",
       "    <tr>\n",
       "      <th>0</th>\n",
       "      <td>Simple Linear Regression</td>\n",
       "      <td>-</td>\n",
       "      <td>270414.521</td>\n",
       "      <td>0.494</td>\n",
       "      <td>-</td>\n",
       "      <td>0.488</td>\n",
       "      <td>-</td>\n",
       "      <td>0.491</td>\n",
       "    </tr>\n",
       "  </tbody>\n",
       "</table>\n",
       "</div>"
      ],
      "text/plain": [
       "                      Model Details  Root Mean Squared Error (RMSE)  \\\n",
       "0  Simple Linear Regression       -                      270414.521   \n",
       "\n",
       "   R-squared (training) Adjusted R-squared (training)  R-squared (test)  \\\n",
       "0                 0.494                             -             0.488   \n",
       "\n",
       "  Adjusted R-squared (test)  5-Fold Cross Validation  \n",
       "0                         -                    0.491  "
      ]
     },
     "execution_count": 22,
     "metadata": {},
     "output_type": "execute_result"
    }
   ],
   "source": [
    "r = evaluation.shape[0]\n",
    "evaluation.loc[r] = ['Simple Linear Regression','-',rmsesm,rtrsm,'-',rtesm,'-',cross_validation]\n",
    "evaluation"
   ]
  },
  {
   "cell_type": "markdown",
   "id": "celtic-television",
   "metadata": {},
   "source": [
    "**Plotting results**"
   ]
  },
  {
   "cell_type": "code",
   "execution_count": 23,
   "id": "cosmetic-understanding",
   "metadata": {},
   "outputs": [],
   "source": [
    "sns.set(style=\"white\", font_scale=1)"
   ]
  },
  {
   "cell_type": "code",
   "execution_count": 26,
   "id": "adequate-hazard",
   "metadata": {},
   "outputs": [
    {
     "data": {
      "image/png": "[encoded data removed]",
      "text/plain": [
       "<Figure size 720x432 with 1 Axes>"
      ]
     },
     "metadata": {},
     "output_type": "display_data"
    }
   ],
   "source": [
    "plt.figure(figsize=(10, 6))\n",
    "plt.scatter(X_test, Y_test, color='darkgreen', label=\"Data\", alpha=.1)\n",
    "plt.plot(X_test, linear_reg_model.predict(X_test), color=\"red\", label=\"Predicted Reg. Line\")\n",
    "\n",
    "plt.xlabel(\"Living Space (sqrt)\")\n",
    "plt.ylabel(\"Price ($)\")\n",
    "\n",
    "plt.xticks(fontsize=13)\n",
    "plt.yticks(fontsize=13)\n",
    "plt.legend()\n",
    "\n",
    "plt.gca().spines['right'].set_visible(False) # Sağdaki siyah border'ı kaldırır\n",
    "plt.gca().spines['top'].set_visible(False) # Yukarıdaki siyah border'ı kaldırır"
   ]
  },
  {
   "cell_type": "markdown",
   "id": "proof-philippines",
   "metadata": {},
   "source": [
    "https://www.kaggle.com/burhanykiyakoglu/predicting-house-prices#-Overview"
   ]
  }
 ],
 "metadata": {
  "kernelspec": {
   "display_name": "Python 3",
   "language": "python",
   "name": "python3"
  },
  "language_info": {
   "codemirror_mode": {
    "name": "ipython",
    "version": 3
   },
   "file_extension": ".py",
   "mimetype": "text/x-python",
   "name": "python",
   "nbconvert_exporter": "python",
   "pygments_lexer": "ipython3",
   "version": "3.6.9"
  }
 },
 "nbformat": 4,
 "nbformat_minor": 5
}

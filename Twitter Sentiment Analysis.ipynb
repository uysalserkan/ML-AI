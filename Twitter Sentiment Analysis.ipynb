{
  "nbformat": 4,
  "nbformat_minor": 5,
  "metadata": {
    "kernelspec": {
      "display_name": "Python 3.8.5 64-bit",
      "language": "python",
      "name": "python38564bit9b13fc8a8c5449f8ad604cc2782fb3a5"
    },
    "language_info": {
      "codemirror_mode": {
        "name": "ipython",
        "version": 3
      },
      "file_extension": ".py",
      "mimetype": "text/x-python",
      "name": "python",
      "nbconvert_exporter": "python",
      "pygments_lexer": "ipython3",
      "version": "3.8.5"
    },
    "colab": {
      "name": "Twitter Sentiment Analysis.ipynb",
      "provenance": [],
      "collapsed_sections": []
    },
    "accelerator": "GPU"
  },
  "cells": [
    {
      "cell_type": "markdown",
      "metadata": {
        "id": "precise-dietary"
      },
      "source": [
        "# Twitter Sentiment Analysis"
      ],
      "id": "precise-dietary"
    },
    {
      "cell_type": "code",
      "metadata": {
        "colab": {
          "base_uri": "https://localhost:8080/"
        },
        "id": "bgUd0syB8dRa",
        "outputId": "43ace421-6e59-47b8-d6a1-1bef020ac230"
      },
      "source": [
        "from google.colab import drive\n",
        "drive.mount('/content/drive')"
      ],
      "id": "bgUd0syB8dRa",
      "execution_count": 4,
      "outputs": [
        {
          "output_type": "stream",
          "text": [
            "Mounted at /content/drive\n"
          ],
          "name": "stdout"
        }
      ]
    },
    {
      "cell_type": "code",
      "metadata": {
        "id": "adverse-norwegian"
      },
      "source": [
        "import pandas as pd\n",
        "import numpy as np\n",
        "import matplotlib.pyplot as plt\n",
        "import seaborn as sns\n",
        "import re\n",
        "import os\n",
        "import logging\n",
        "import time\n",
        "import pickle\n",
        "import itertools\n",
        "import nltk\n",
        "import gensim\n",
        "\n",
        "from collections import Counter\n",
        "from sklearn.model_selection import train_test_split\n",
        "from sklearn.preprocessing import LabelEncoder\n",
        "from sklearn.metrics import confusion_matrix, classification_report, accuracy_score\n",
        "from sklearn.manifold import TSNE\n",
        "from sklearn.feature_extraction.text import TfidfVectorizer\n",
        "from keras.preprocessing.text import Tokenizer\n",
        "from keras.preprocessing.sequence import pad_sequences\n",
        "from keras.models import Sequential\n",
        "from keras.layers import Activation, Dense, Dropout, Embedding, Flatten, Conv1D, MaxPooling1D, LSTM\n",
        "from keras import utils\n",
        "from keras.callbacks import ReduceLROnPlateau, EarlyStopping\n",
        "from nltk.corpus import stopwords\n",
        "from  nltk.stem import SnowballStemmer\n",
        "\n",
        "%matplotlib inline"
      ],
      "id": "adverse-norwegian",
      "execution_count": 1,
      "outputs": []
    },
    {
      "cell_type": "code",
      "metadata": {
        "colab": {
          "base_uri": "https://localhost:8080/"
        },
        "id": "altered-investment",
        "outputId": "f6a35149-37e8-42cd-91f6-b4a2cc18ed26"
      },
      "source": [
        "nltk.download(\"stopwords\")"
      ],
      "id": "altered-investment",
      "execution_count": 2,
      "outputs": [
        {
          "output_type": "stream",
          "text": [
            "[nltk_data] Downloading package stopwords to /root/nltk_data...\n",
            "[nltk_data]   Unzipping corpora/stopwords.zip.\n"
          ],
          "name": "stdout"
        },
        {
          "output_type": "execute_result",
          "data": {
            "text/plain": [
              "True"
            ]
          },
          "metadata": {
            "tags": []
          },
          "execution_count": 2
        }
      ]
    },
    {
      "cell_type": "code",
      "metadata": {
        "id": "missing-environment"
      },
      "source": [
        "COLUMNS=[\"target\", \"ids\", \"date\", \"flag\", \"user\", \"text\"]\n",
        "ENCODING = \"ISO-8859-1\"\n",
        "TRAIN_SIZE = 0.95\n",
        "\n",
        "TEXT_CLEAR_REGEX = \"@\\S+|https?:\\S+|http?:\\S|[^A-Za-z0-9]+\"\n",
        "\n",
        "W2V_SIZE = 300\n",
        "W2V_WINDOW = 7\n",
        "W2V_EPOCH = 32\n",
        "W2V_MIN_COUNT = 10\n",
        "\n",
        "SEQUENCE_LENGTH = 300\n",
        "EPOCHS = 8\n",
        "BATCH_SIZE = 1024\n",
        "\n",
        "POSITIVE = \"POSITIVE\"\n",
        "NEGATIVE = \"NEGATIVE\"\n",
        "NEUTRAL = \"NEUTRAL\"\n",
        "SENTIMENT_THRESHOLDS = (0.4, 0.7)\n",
        "\n",
        "KERAS_MODEL = \"twitter_sentiment_model.h5\"\n",
        "WORD2VEC_MODEL = \"twitter_sentiment_model.w2v\"\n",
        "TOKENIZER_MODEL = \"twitter_sentiment_tokenizer.pkl\"\n",
        "ENCODER_MODEL = \"twitter_sentiment_encoder.pkl\""
      ],
      "id": "missing-environment",
      "execution_count": 3,
      "outputs": []
    },
    {
      "cell_type": "markdown",
      "metadata": {
        "id": "democratic-testimony"
      },
      "source": [
        "### Reading dataset"
      ],
      "id": "democratic-testimony"
    },
    {
      "cell_type": "code",
      "metadata": {
        "id": "falling-spokesman"
      },
      "source": [
        "df = pd.read_csv('/content/drive/MyDrive/training.1600000.processed.noemoticon.csv', \n",
        "                 encoding=ENCODING, names=COLUMNS)"
      ],
      "id": "falling-spokesman",
      "execution_count": 5,
      "outputs": []
    },
    {
      "cell_type": "code",
      "metadata": {
        "colab": {
          "base_uri": "https://localhost:8080/"
        },
        "id": "circular-astronomy",
        "outputId": "ede57e02-8d1a-4767-d0b0-7224af8b05ed"
      },
      "source": [
        "print(\"Size:\", len(df))"
      ],
      "id": "circular-astronomy",
      "execution_count": 6,
      "outputs": [
        {
          "output_type": "stream",
          "text": [
            "Size: 1600000\n"
          ],
          "name": "stdout"
        }
      ]
    },
    {
      "cell_type": "code",
      "metadata": {
        "colab": {
          "base_uri": "https://localhost:8080/",
          "height": 142
        },
        "id": "central-ticket",
        "outputId": "3d30ea8e-c864-474f-9ce0-5122d343d937"
      },
      "source": [
        "df.sample(3)"
      ],
      "id": "central-ticket",
      "execution_count": 7,
      "outputs": [
        {
          "output_type": "execute_result",
          "data": {
            "text/html": [
              "<div>\n",
              "<style scoped>\n",
              "    .dataframe tbody tr th:only-of-type {\n",
              "        vertical-align: middle;\n",
              "    }\n",
              "\n",
              "    .dataframe tbody tr th {\n",
              "        vertical-align: top;\n",
              "    }\n",
              "\n",
              "    .dataframe thead th {\n",
              "        text-align: right;\n",
              "    }\n",
              "</style>\n",
              "<table border=\"1\" class=\"dataframe\">\n",
              "  <thead>\n",
              "    <tr style=\"text-align: right;\">\n",
              "      <th></th>\n",
              "      <th>target</th>\n",
              "      <th>ids</th>\n",
              "      <th>date</th>\n",
              "      <th>flag</th>\n",
              "      <th>user</th>\n",
              "      <th>text</th>\n",
              "    </tr>\n",
              "  </thead>\n",
              "  <tbody>\n",
              "    <tr>\n",
              "      <th>1373788</th>\n",
              "      <td>4</td>\n",
              "      <td>2051363038</td>\n",
              "      <td>Fri Jun 05 21:48:14 PDT 2009</td>\n",
              "      <td>NO_QUERY</td>\n",
              "      <td>Bobbbbbi</td>\n",
              "      <td>Just watched up with kk and fam bam. Going to ...</td>\n",
              "    </tr>\n",
              "    <tr>\n",
              "      <th>1069262</th>\n",
              "      <td>4</td>\n",
              "      <td>1965895566</td>\n",
              "      <td>Fri May 29 16:44:34 PDT 2009</td>\n",
              "      <td>NO_QUERY</td>\n",
              "      <td>luniluna</td>\n",
              "      <td>Huh. The internet signal seems to be stabling ...</td>\n",
              "    </tr>\n",
              "    <tr>\n",
              "      <th>1586126</th>\n",
              "      <td>4</td>\n",
              "      <td>2190771441</td>\n",
              "      <td>Tue Jun 16 03:40:53 PDT 2009</td>\n",
              "      <td>NO_QUERY</td>\n",
              "      <td>Jillianevelyn</td>\n",
              "      <td>I get to do some patterns today</td>\n",
              "    </tr>\n",
              "  </tbody>\n",
              "</table>\n",
              "</div>"
            ],
            "text/plain": [
              "         target  ...                                               text\n",
              "1373788       4  ...  Just watched up with kk and fam bam. Going to ...\n",
              "1069262       4  ...  Huh. The internet signal seems to be stabling ...\n",
              "1586126       4  ...                   I get to do some patterns today \n",
              "\n",
              "[3 rows x 6 columns]"
            ]
          },
          "metadata": {
            "tags": []
          },
          "execution_count": 7
        }
      ]
    },
    {
      "cell_type": "markdown",
      "metadata": {
        "id": "dressed-oregon"
      },
      "source": [
        "#### Target label to Strings\n",
        "- 0 **>>>** Negative\n",
        "- 2 **>>>** Neutral\n",
        "- 4 **>>>** Positive"
      ],
      "id": "dressed-oregon"
    },
    {
      "cell_type": "code",
      "metadata": {
        "id": "continental-stone"
      },
      "source": [
        "decoder = {0: \"NEGATIVE\", 2: \"NEUTRAL\", 4:\"POSITIVE\"}\n",
        "\n",
        "def decode_sentiment(label):\n",
        "    return decoder[int(label)]"
      ],
      "id": "continental-stone",
      "execution_count": 8,
      "outputs": []
    },
    {
      "cell_type": "code",
      "metadata": {
        "scrolled": true,
        "colab": {
          "base_uri": "https://localhost:8080/"
        },
        "id": "diverse-advantage",
        "outputId": "e670ac65-f927-4900-9be1-aac6fbd0fecb"
      },
      "source": [
        "%%time\n",
        "df.target = df.target.apply(lambda x: decode_sentiment(x))"
      ],
      "id": "diverse-advantage",
      "execution_count": 9,
      "outputs": [
        {
          "output_type": "stream",
          "text": [
            "CPU times: user 493 ms, sys: 2.69 ms, total: 495 ms\n",
            "Wall time: 498 ms\n"
          ],
          "name": "stdout"
        }
      ]
    },
    {
      "cell_type": "code",
      "metadata": {
        "colab": {
          "base_uri": "https://localhost:8080/",
          "height": 282
        },
        "id": "annoying-bracket",
        "outputId": "df10aa04-354d-4af3-a80e-c7a8b290a1da"
      },
      "source": [
        "targets = Counter(df.target)\n",
        "\n",
        "plt.bar(targets.keys(), targets.values())"
      ],
      "id": "annoying-bracket",
      "execution_count": 10,
      "outputs": [
        {
          "output_type": "execute_result",
          "data": {
            "text/plain": [
              "<BarContainer object of 2 artists>"
            ]
          },
          "metadata": {
            "tags": []
          },
          "execution_count": 10
        },
        {
          "output_type": "display_data",
          "data": {
            "image/png": "[encoded data removed]",
            "text/plain": [
              "<Figure size 432x288 with 1 Axes>"
            ]
          },
          "metadata": {
            "tags": [],
            "needs_background": "light"
          }
        }
      ]
    },
    {
      "cell_type": "markdown",
      "metadata": {
        "id": "patent-matthew"
      },
      "source": [
        "### Preprocessing"
      ],
      "id": "patent-matthew"
    },
    {
      "cell_type": "code",
      "metadata": {
        "id": "eight-evans"
      },
      "source": [
        "stop_words = stopwords.words(\"english\")\n",
        "stemmer = SnowballStemmer(\"english\")"
      ],
      "id": "eight-evans",
      "execution_count": 11,
      "outputs": []
    },
    {
      "cell_type": "code",
      "metadata": {
        "id": "legal-category"
      },
      "source": [
        "def preprocessing(text, stem=False):\n",
        "    text = re.sub(TEXT_CLEAR_REGEX, ' ', str(text).lower()).strip()\n",
        "    tokens = []\n",
        "    \n",
        "    for token in text.split():\n",
        "        if token not in stop_words:\n",
        "            if stem:\n",
        "                tokens.append(stemmer.stem(token))\n",
        "            else:\n",
        "                tokens.append(token)\n",
        "        \n",
        "    return \" \".join(tokens)"
      ],
      "id": "legal-category",
      "execution_count": 12,
      "outputs": []
    },
    {
      "cell_type": "code",
      "metadata": {
        "colab": {
          "base_uri": "https://localhost:8080/"
        },
        "id": "nutritional-principal",
        "outputId": "566e0272-a949-4fbd-b426-fcf94c0c05b2"
      },
      "source": [
        "%%time\n",
        "df.text = df.text.apply(lambda x: preprocessing(x))"
      ],
      "id": "nutritional-principal",
      "execution_count": 13,
      "outputs": [
        {
          "output_type": "stream",
          "text": [
            "CPU times: user 50.4 s, sys: 201 ms, total: 50.6 s\n",
            "Wall time: 50.7 s\n"
          ],
          "name": "stdout"
        }
      ]
    },
    {
      "cell_type": "code",
      "metadata": {
        "id": "novel-sally"
      },
      "source": [
        "df_train, df_test = train_test_split(df, train_size=TRAIN_SIZE, random_state=25)"
      ],
      "id": "novel-sally",
      "execution_count": 14,
      "outputs": []
    },
    {
      "cell_type": "code",
      "metadata": {
        "colab": {
          "base_uri": "https://localhost:8080/"
        },
        "id": "driving-impression",
        "outputId": "34c901a6-cdb7-4e17-bceb-4df80d31c3b9"
      },
      "source": [
        "len(df_train)"
      ],
      "id": "driving-impression",
      "execution_count": 15,
      "outputs": [
        {
          "output_type": "execute_result",
          "data": {
            "text/plain": [
              "1520000"
            ]
          },
          "metadata": {
            "tags": []
          },
          "execution_count": 15
        }
      ]
    },
    {
      "cell_type": "code",
      "metadata": {
        "colab": {
          "base_uri": "https://localhost:8080/"
        },
        "id": "leading-recorder",
        "outputId": "a3e08098-09f9-4c8f-a95c-16832051d93e"
      },
      "source": [
        "len(df_test)"
      ],
      "id": "leading-recorder",
      "execution_count": 16,
      "outputs": [
        {
          "output_type": "execute_result",
          "data": {
            "text/plain": [
              "80000"
            ]
          },
          "metadata": {
            "tags": []
          },
          "execution_count": 16
        }
      ]
    },
    {
      "cell_type": "markdown",
      "metadata": {
        "id": "lasting-bubble"
      },
      "source": [
        "### Word2Vec"
      ],
      "id": "lasting-bubble"
    },
    {
      "cell_type": "code",
      "metadata": {
        "colab": {
          "base_uri": "https://localhost:8080/"
        },
        "id": "paperback-brooks",
        "outputId": "dccda79c-783a-428d-a364-0be9636719d7"
      },
      "source": [
        "%%time\n",
        "documents = [_text.split() for _text in df_train.text]"
      ],
      "id": "paperback-brooks",
      "execution_count": 17,
      "outputs": [
        {
          "output_type": "stream",
          "text": [
            "CPU times: user 2.91 s, sys: 393 ms, total: 3.3 s\n",
            "Wall time: 3.31 s\n"
          ],
          "name": "stdout"
        }
      ]
    },
    {
      "cell_type": "code",
      "metadata": {
        "id": "integral-candle"
      },
      "source": [
        "w2v_model = gensim.models.word2vec.Word2Vec(size=W2V_SIZE, \n",
        "                                            window=W2V_WINDOW, \n",
        "                                            min_count=W2V_MIN_COUNT, \n",
        "                                            workers=8)"
      ],
      "id": "integral-candle",
      "execution_count": 19,
      "outputs": []
    },
    {
      "cell_type": "code",
      "metadata": {
        "id": "confirmed-robert"
      },
      "source": [
        "w2v_model.build_vocab(documents)"
      ],
      "id": "confirmed-robert",
      "execution_count": 20,
      "outputs": []
    },
    {
      "cell_type": "code",
      "metadata": {
        "id": "dress-standing"
      },
      "source": [
        "words = w2v_model.wv.vocab.keys()\n",
        "vocab_size = len(words)"
      ],
      "id": "dress-standing",
      "execution_count": 22,
      "outputs": []
    },
    {
      "cell_type": "code",
      "metadata": {
        "colab": {
          "base_uri": "https://localhost:8080/"
        },
        "id": "quarterly-calgary",
        "outputId": "f930308b-9597-47c6-c411-fc7ef84b927d"
      },
      "source": [
        "vocab_size"
      ],
      "id": "quarterly-calgary",
      "execution_count": 23,
      "outputs": [
        {
          "output_type": "execute_result",
          "data": {
            "text/plain": [
              "33588"
            ]
          },
          "metadata": {
            "tags": []
          },
          "execution_count": 23
        }
      ]
    },
    {
      "cell_type": "code",
      "metadata": {
        "colab": {
          "base_uri": "https://localhost:8080/"
        },
        "id": "absent-jaguar",
        "outputId": "2f3a528c-362c-456b-e8ef-f1c67734bd7f"
      },
      "source": [
        "%%time\n",
        "w2v_model.train(documents, \n",
        "                total_examples=len(documents), \n",
        "                epochs=W2V_EPOCH)"
      ],
      "id": "absent-jaguar",
      "execution_count": 24,
      "outputs": [
        {
          "output_type": "stream",
          "text": [
            "CPU times: user 22min 14s, sys: 4.82 s, total: 22min 19s\n",
            "Wall time: 11min 24s\n"
          ],
          "name": "stdout"
        },
        {
          "output_type": "execute_result",
          "data": {
            "text/plain": [
              "(313543956, 350617120)"
            ]
          },
          "metadata": {
            "tags": []
          },
          "execution_count": 24
        }
      ]
    },
    {
      "cell_type": "code",
      "metadata": {
        "colab": {
          "base_uri": "https://localhost:8080/"
        },
        "id": "connected-friendship",
        "outputId": "bfbe56bb-b447-40f9-d57d-508a92994f86"
      },
      "source": [
        "w2v_model.wv.similar_by_word(\"love\")"
      ],
      "id": "connected-friendship",
      "execution_count": 25,
      "outputs": [
        {
          "output_type": "execute_result",
          "data": {
            "text/plain": [
              "[('luv', 0.5991935133934021),\n",
              " ('loves', 0.590000331401825),\n",
              " ('adore', 0.5755394697189331),\n",
              " ('loved', 0.5353175401687622),\n",
              " ('looove', 0.5230357646942139),\n",
              " ('amazing', 0.5069674253463745),\n",
              " ('loove', 0.4904833436012268),\n",
              " ('lovee', 0.47313177585601807),\n",
              " ('loveeeee', 0.4521527886390686),\n",
              " ('awesome', 0.4501841962337494)]"
            ]
          },
          "metadata": {
            "tags": []
          },
          "execution_count": 25
        }
      ]
    },
    {
      "cell_type": "markdown",
      "metadata": {
        "id": "civic-syracuse"
      },
      "source": [
        "### Tokenize Text"
      ],
      "id": "civic-syracuse"
    },
    {
      "cell_type": "code",
      "metadata": {
        "id": "supported-senior"
      },
      "source": [
        "tokenizer = Tokenizer()\n",
        "tokenizer.fit_on_texts(df_train.text)\n",
        "\n",
        "vocab_size = len(tokenizer.word_index) + 1"
      ],
      "id": "supported-senior",
      "execution_count": 26,
      "outputs": []
    },
    {
      "cell_type": "code",
      "metadata": {
        "colab": {
          "base_uri": "https://localhost:8080/"
        },
        "id": "possible-yugoslavia",
        "outputId": "38ade6a0-aec8-4d0d-8635-f7d3f178d16b"
      },
      "source": [
        "vocab_size"
      ],
      "id": "possible-yugoslavia",
      "execution_count": 27,
      "outputs": [
        {
          "output_type": "execute_result",
          "data": {
            "text/plain": [
              "324507"
            ]
          },
          "metadata": {
            "tags": []
          },
          "execution_count": 27
        }
      ]
    },
    {
      "cell_type": "code",
      "metadata": {
        "colab": {
          "base_uri": "https://localhost:8080/"
        },
        "id": "lucky-mobility",
        "outputId": "7cac0802-ea99-4513-ec8d-e7119be64e9f"
      },
      "source": [
        "%%time\n",
        "x_train = pad_sequences(tokenizer.texts_to_sequences(df_train.text), \n",
        "                        maxlen=SEQUENCE_LENGTH)\n",
        "x_test = pad_sequences(tokenizer.texts_to_sequences(df_test.text), \n",
        "                       maxlen=SEQUENCE_LENGTH)"
      ],
      "id": "lucky-mobility",
      "execution_count": 28,
      "outputs": [
        {
          "output_type": "stream",
          "text": [
            "CPU times: user 22.9 s, sys: 702 ms, total: 23.6 s\n",
            "Wall time: 23.4 s\n"
          ],
          "name": "stdout"
        }
      ]
    },
    {
      "cell_type": "markdown",
      "metadata": {
        "id": "stock-kitty"
      },
      "source": [
        "### Label encoder"
      ],
      "id": "stock-kitty"
    },
    {
      "cell_type": "code",
      "metadata": {
        "id": "opposed-devon"
      },
      "source": [
        "labels = df_train.target.unique().tolist()\n"
      ],
      "id": "opposed-devon",
      "execution_count": 29,
      "outputs": []
    },
    {
      "cell_type": "code",
      "metadata": {
        "colab": {
          "base_uri": "https://localhost:8080/"
        },
        "id": "desirable-theory",
        "outputId": "abfe66d7-70cc-40fa-d997-906107251191"
      },
      "source": [
        "labels"
      ],
      "id": "desirable-theory",
      "execution_count": 30,
      "outputs": [
        {
          "output_type": "execute_result",
          "data": {
            "text/plain": [
              "['POSITIVE', 'NEGATIVE']"
            ]
          },
          "metadata": {
            "tags": []
          },
          "execution_count": 30
        }
      ]
    },
    {
      "cell_type": "code",
      "metadata": {
        "colab": {
          "base_uri": "https://localhost:8080/"
        },
        "id": "looking-modem",
        "outputId": "10b2e0d5-1897-4bc0-f9e1-2a287d1cde3f"
      },
      "source": [
        "labels.append(NEUTRAL)\n",
        "labels"
      ],
      "id": "looking-modem",
      "execution_count": 31,
      "outputs": [
        {
          "output_type": "execute_result",
          "data": {
            "text/plain": [
              "['POSITIVE', 'NEGATIVE', 'NEUTRAL']"
            ]
          },
          "metadata": {
            "tags": []
          },
          "execution_count": 31
        }
      ]
    },
    {
      "cell_type": "code",
      "metadata": {
        "id": "binary-berkeley"
      },
      "source": [
        "encoder = LabelEncoder()\n",
        "encoder.fit(df_train.target.tolist())\n",
        "\n",
        "y_train = encoder.transform(df_train.target.tolist())\n",
        "y_test = encoder.transform(df_test.target.tolist())"
      ],
      "id": "binary-berkeley",
      "execution_count": 32,
      "outputs": []
    },
    {
      "cell_type": "code",
      "metadata": {
        "id": "arbitrary-vampire"
      },
      "source": [
        "y_train = y_train.reshape(-1,1)\n",
        "y_test = y_test.reshape(-1,1)"
      ],
      "id": "arbitrary-vampire",
      "execution_count": 33,
      "outputs": []
    },
    {
      "cell_type": "code",
      "metadata": {
        "colab": {
          "base_uri": "https://localhost:8080/"
        },
        "id": "constitutional-crawford",
        "outputId": "2d8a3c83-41a7-4cf9-afe1-11d4d9175aed"
      },
      "source": [
        "print(\"x_train\", x_train.shape,\n",
        "\"y_train\", y_train.shape,\n",
        "\"\\n\",\n",
        "\"x_test\", x_test.shape,\n",
        "\"y_test\", y_test.shape)"
      ],
      "id": "constitutional-crawford",
      "execution_count": 34,
      "outputs": [
        {
          "output_type": "stream",
          "text": [
            "x_train (1520000, 300) y_train (1520000, 1) \n",
            " x_test (80000, 300) y_test (80000, 1)\n"
          ],
          "name": "stdout"
        }
      ]
    },
    {
      "cell_type": "markdown",
      "metadata": {
        "id": "inappropriate-conducting"
      },
      "source": [
        "### Embedding Layer"
      ],
      "id": "inappropriate-conducting"
    },
    {
      "cell_type": "code",
      "metadata": {
        "id": "arctic-saint"
      },
      "source": [
        "embedding_matrix = np.zeros((vocab_size, W2V_SIZE))\n",
        "for word, i in tokenizer.word_index.items():\n",
        "    if word in w2v_model.wv:\n",
        "        embedding_matrix[i] = w2v_model.wv[word]"
      ],
      "id": "arctic-saint",
      "execution_count": 35,
      "outputs": []
    },
    {
      "cell_type": "code",
      "metadata": {
        "id": "critical-finish"
      },
      "source": [
        "embedding_layer = Embedding(vocab_size, \n",
        "                            W2V_SIZE, \n",
        "                            weights=[embedding_matrix], \n",
        "                            input_length=SEQUENCE_LENGTH, \n",
        "                            trainable=False)"
      ],
      "id": "critical-finish",
      "execution_count": 36,
      "outputs": []
    },
    {
      "cell_type": "code",
      "metadata": {
        "colab": {
          "base_uri": "https://localhost:8080/"
        },
        "id": "above-hampshire",
        "outputId": "0e58786a-6f05-461c-acca-db5d5fbbf88a"
      },
      "source": [
        "model = Sequential([\n",
        "    embedding_layer,\n",
        "    Dropout(0.5),\n",
        "    LSTM(125, dropout=0.25, recurrent_dropout=0.25),\n",
        "    Dense(1, activation='sigmoid')\n",
        "])"
      ],
      "id": "above-hampshire",
      "execution_count": 37,
      "outputs": [
        {
          "output_type": "stream",
          "text": [
            "WARNING:tensorflow:Layer lstm will not use cuDNN kernel since it doesn't meet the cuDNN kernel criteria. It will use generic GPU kernel as fallback when running on GPU\n"
          ],
          "name": "stdout"
        }
      ]
    },
    {
      "cell_type": "code",
      "metadata": {
        "colab": {
          "base_uri": "https://localhost:8080/"
        },
        "id": "adopted-screw",
        "outputId": "27c992d2-57d1-4a45-af8d-b1bbfba20e02"
      },
      "source": [
        "model.summary()"
      ],
      "id": "adopted-screw",
      "execution_count": 38,
      "outputs": [
        {
          "output_type": "stream",
          "text": [
            "Model: \"sequential\"\n",
            "_________________________________________________________________\n",
            "Layer (type)                 Output Shape              Param #   \n",
            "=================================================================\n",
            "embedding (Embedding)        (None, 300, 300)          97352100  \n",
            "_________________________________________________________________\n",
            "dropout (Dropout)            (None, 300, 300)          0         \n",
            "_________________________________________________________________\n",
            "lstm (LSTM)                  (None, 125)               213000    \n",
            "_________________________________________________________________\n",
            "dense (Dense)                (None, 1)                 126       \n",
            "=================================================================\n",
            "Total params: 97,565,226\n",
            "Trainable params: 213,126\n",
            "Non-trainable params: 97,352,100\n",
            "_________________________________________________________________\n"
          ],
          "name": "stdout"
        }
      ]
    },
    {
      "cell_type": "code",
      "metadata": {
        "id": "patent-better"
      },
      "source": [
        "model.compile(\n",
        "    loss='binary_crossentropy',\n",
        "    optimizer='adam',\n",
        "    metrics=['acc']\n",
        ")"
      ],
      "id": "patent-better",
      "execution_count": 39,
      "outputs": []
    },
    {
      "cell_type": "code",
      "metadata": {
        "id": "alpine-lancaster"
      },
      "source": [
        "callbacks = [ReduceLROnPlateau(monitor='val_loss', patience=5, cooldown=0),\n",
        "              EarlyStopping(monitor='val_acc', min_delta=1e-4, patience=5)]"
      ],
      "id": "alpine-lancaster",
      "execution_count": 40,
      "outputs": []
    },
    {
      "cell_type": "markdown",
      "metadata": {
        "id": "sharp-cemetery"
      },
      "source": [
        "#### Train"
      ],
      "id": "sharp-cemetery"
    },
    {
      "cell_type": "code",
      "metadata": {
        "colab": {
          "base_uri": "https://localhost:8080/"
        },
        "id": "coral-investigator",
        "outputId": "c8d79a4f-0f23-444a-9f07-bd2af6f331d7"
      },
      "source": [
        "%%time\n",
        "hist = model.fit(x_train, y_train,\n",
        "                 batch_size=BATCH_SIZE,\n",
        "                 epochs=EPOCHS,\n",
        "                 validation_split=0.15,\n",
        "                 verbose=1,\n",
        "                 callbacks=callbacks\n",
        "                )"
      ],
      "id": "coral-investigator",
      "execution_count": 41,
      "outputs": [
        {
          "output_type": "stream",
          "text": [
            "Epoch 1/8\n",
            "1262/1262 [==============================] - 1329s 1s/step - loss: 0.5240 - acc: 0.7347 - val_loss: 0.4612 - val_acc: 0.7817\n",
            "Epoch 2/8\n",
            "1262/1262 [==============================] - 1352s 1s/step - loss: 0.4819 - acc: 0.7654 - val_loss: 0.4564 - val_acc: 0.7852\n",
            "Epoch 3/8\n",
            "1262/1262 [==============================] - 1328s 1s/step - loss: 0.4753 - acc: 0.7702 - val_loss: 0.4536 - val_acc: 0.7875\n",
            "Epoch 4/8\n",
            "1262/1262 [==============================] - 1315s 1s/step - loss: 0.4714 - acc: 0.7723 - val_loss: 0.4512 - val_acc: 0.7881\n",
            "Epoch 5/8\n",
            "1262/1262 [==============================] - 1328s 1s/step - loss: 0.4689 - acc: 0.7739 - val_loss: 0.4483 - val_acc: 0.7892\n",
            "Epoch 6/8\n",
            "1262/1262 [==============================] - 1318s 1s/step - loss: 0.4676 - acc: 0.7743 - val_loss: 0.4479 - val_acc: 0.7900\n",
            "Epoch 7/8\n",
            "1262/1262 [==============================] - 1326s 1s/step - loss: 0.4658 - acc: 0.7758 - val_loss: 0.4462 - val_acc: 0.7911\n",
            "Epoch 8/8\n",
            "1262/1262 [==============================] - 1332s 1s/step - loss: 0.4632 - acc: 0.7781 - val_loss: 0.4449 - val_acc: 0.7913\n",
            "CPU times: user 4h 9min 24s, sys: 33min 40s, total: 4h 43min 5s\n",
            "Wall time: 2h 57min 7s\n"
          ],
          "name": "stdout"
        }
      ]
    },
    {
      "cell_type": "code",
      "metadata": {
        "colab": {
          "base_uri": "https://localhost:8080/"
        },
        "id": "friendly-polish",
        "outputId": "83455222-e862-4d8a-866f-c49baca54942"
      },
      "source": [
        "%%time\n",
        "score = model.evaluate(x_test, y_test, batch_size=BATCH_SIZE)\n",
        "print()\n",
        "print(\"ACCURACY:\",score[1])\n",
        "print(\"LOSS:\",score[0])"
      ],
      "id": "friendly-polish",
      "execution_count": 42,
      "outputs": [
        {
          "output_type": "stream",
          "text": [
            "79/79 [==============================] - 14s 172ms/step - loss: 0.4446 - acc: 0.7928\n",
            "\n",
            "ACCURACY: 0.7928375005722046\n",
            "LOSS: 0.44463324546813965\n",
            "CPU times: user 12 s, sys: 1.05 s, total: 13 s\n",
            "Wall time: 13.7 s\n"
          ],
          "name": "stdout"
        }
      ]
    },
    {
      "cell_type": "code",
      "metadata": {
        "colab": {
          "base_uri": "https://localhost:8080/",
          "height": 545
        },
        "id": "ignored-recorder",
        "outputId": "f7ba09c7-a0e2-4e12-baa6-d9cf66ad0e34"
      },
      "source": [
        "acc = hist.history['acc']\n",
        "val_acc = hist.history['val_acc']\n",
        "loss = hist.history['loss']\n",
        "val_loss = hist.history['val_loss']\n",
        " \n",
        "epochs = range(len(acc))\n",
        " \n",
        "plt.plot(epochs, acc, 'b', label='Training acc')\n",
        "plt.plot(epochs, val_acc, 'r', label='Validation acc')\n",
        "plt.title('Training and validation accuracy')\n",
        "plt.legend()\n",
        " \n",
        "plt.figure()\n",
        " \n",
        "plt.plot(epochs, loss, 'b', label='Training loss')\n",
        "plt.plot(epochs, val_loss, 'r', label='Validation loss')\n",
        "plt.title('Training and validation loss')\n",
        "plt.legend()\n",
        " \n",
        "plt.show()"
      ],
      "id": "ignored-recorder",
      "execution_count": 44,
      "outputs": [
        {
          "output_type": "display_data",
          "data": {
            "image/png": "[encoded data removed]",
            "text/plain": [
              "<Figure size 432x288 with 1 Axes>"
            ]
          },
          "metadata": {
            "tags": [],
            "needs_background": "light"
          }
        },
        {
          "output_type": "display_data",
          "data": {
            "image/png": "[encoded data removed]",
            "text/plain": [
              "<Figure size 432x288 with 1 Axes>"
            ]
          },
          "metadata": {
            "tags": [],
            "needs_background": "light"
          }
        }
      ]
    },
    {
      "cell_type": "code",
      "metadata": {
        "id": "novel-tourism"
      },
      "source": [
        "def decode_sentiment(score, include_neutral=True):\n",
        "    if include_neutral:        \n",
        "        label = NEUTRAL\n",
        "        if score <= SENTIMENT_THRESHOLDS[0]:\n",
        "            label = NEGATIVE\n",
        "        elif score >= SENTIMENT_THRESHOLDS[1]:\n",
        "            label = POSITIVE\n",
        "\n",
        "        return label\n",
        "    else:\n",
        "        return NEGATIVE if score < 0.5 else POSITIVE"
      ],
      "id": "novel-tourism",
      "execution_count": 45,
      "outputs": []
    },
    {
      "cell_type": "code",
      "metadata": {
        "id": "integrated-relief"
      },
      "source": [
        "def predict(text, include_neutral=True):\n",
        "    start_at = time.time()\n",
        "    # Tokenize text\n",
        "    x_test = pad_sequences(tokenizer.texts_to_sequences([text]), maxlen=SEQUENCE_LENGTH)\n",
        "    # Predict\n",
        "    score = model.predict([x_test])[0]\n",
        "    # Decode sentiment\n",
        "    label = decode_sentiment(score, include_neutral=include_neutral)\n",
        "\n",
        "    return {\"label\": label, \"score\": float(score),\n",
        "       \"elapsed_time\": time.time()-start_at}  "
      ],
      "id": "integrated-relief",
      "execution_count": 46,
      "outputs": []
    },
    {
      "cell_type": "code",
      "metadata": {
        "colab": {
          "base_uri": "https://localhost:8080/"
        },
        "id": "naval-local",
        "outputId": "19dfd1b4-5d5b-4d9c-83b0-1a670815bb7a"
      },
      "source": [
        "predict(\"I love the music\")"
      ],
      "id": "naval-local",
      "execution_count": 47,
      "outputs": [
        {
          "output_type": "execute_result",
          "data": {
            "text/plain": [
              "{'elapsed_time': 0.3110849857330322,\n",
              " 'label': 'POSITIVE',\n",
              " 'score': 0.9786145687103271}"
            ]
          },
          "metadata": {
            "tags": []
          },
          "execution_count": 47
        }
      ]
    },
    {
      "cell_type": "code",
      "metadata": {
        "colab": {
          "base_uri": "https://localhost:8080/"
        },
        "id": "hydraulic-array",
        "outputId": "79059961-1858-4999-c173-c4cee192e867"
      },
      "source": [
        "predict(\"I hate the rain\")"
      ],
      "id": "hydraulic-array",
      "execution_count": 48,
      "outputs": [
        {
          "output_type": "execute_result",
          "data": {
            "text/plain": [
              "{'elapsed_time': 0.09333205223083496,\n",
              " 'label': 'NEGATIVE',\n",
              " 'score': 0.009862751699984074}"
            ]
          },
          "metadata": {
            "tags": []
          },
          "execution_count": 48
        }
      ]
    },
    {
      "cell_type": "code",
      "metadata": {
        "colab": {
          "base_uri": "https://localhost:8080/"
        },
        "id": "imposed-packet",
        "outputId": "42ee9517-432e-4fa1-a4fa-246bbc4b531b"
      },
      "source": [
        "%%time\n",
        "y_pred_1d = []\n",
        "y_test_1d = list(df_test.target)\n",
        "scores = model.predict(x_test, verbose=1, batch_size=8000)\n",
        "y_pred_1d = [decode_sentiment(score, include_neutral=False) for score in scores]"
      ],
      "id": "imposed-packet",
      "execution_count": 49,
      "outputs": [
        {
          "output_type": "stream",
          "text": [
            "10/10 [==============================] - 14s 1s/step\n",
            "CPU times: user 8.78 s, sys: 5.13 s, total: 13.9 s\n",
            "Wall time: 13.7 s\n"
          ],
          "name": "stdout"
        }
      ]
    },
    {
      "cell_type": "code",
      "metadata": {
        "id": "medium-renaissance"
      },
      "source": [
        "def plot_confusion_matrix(cm, classes,\n",
        "                          title='Confusion matrix',\n",
        "                          cmap=plt.cm.Blues):\n",
        "    \"\"\"\n",
        "    This function prints and plots the confusion matrix.\n",
        "    Normalization can be applied by setting `normalize=True`.\n",
        "    \"\"\"\n",
        "\n",
        "    cm = cm.astype('float') / cm.sum(axis=1)[:, np.newaxis]\n",
        "\n",
        "    plt.imshow(cm, interpolation='nearest', cmap=cmap)\n",
        "    plt.title(title, fontsize=30)\n",
        "    plt.colorbar()\n",
        "    tick_marks = np.arange(len(classes))\n",
        "    plt.xticks(tick_marks, classes, rotation=90, fontsize=22)\n",
        "    plt.yticks(tick_marks, classes, fontsize=22)\n",
        "\n",
        "    fmt = '.2f'\n",
        "    thresh = cm.max() / 2.\n",
        "    for i, j in itertools.product(range(cm.shape[0]), range(cm.shape[1])):\n",
        "        plt.text(j, i, format(cm[i, j], fmt),\n",
        "                 horizontalalignment=\"center\",\n",
        "                 color=\"white\" if cm[i, j] > thresh else \"black\")\n",
        "\n",
        "    plt.ylabel('True label', fontsize=25)\n",
        "    plt.xlabel('Predicted label', fontsize=25)"
      ],
      "id": "medium-renaissance",
      "execution_count": 50,
      "outputs": []
    },
    {
      "cell_type": "code",
      "metadata": {
        "colab": {
          "base_uri": "https://localhost:8080/",
          "height": 803
        },
        "id": "standard-plain",
        "outputId": "f4ee0272-df34-485d-b5f3-b3fee0d20212"
      },
      "source": [
        "%%time\n",
        "cnf_matrix = confusion_matrix(y_test_1d, y_pred_1d)\n",
        "plt.figure(figsize=(12,12))\n",
        "plot_confusion_matrix(cnf_matrix, classes=df_train.target.unique(), title=\"Confusion matrix\")\n",
        "plt.show()"
      ],
      "id": "standard-plain",
      "execution_count": 53,
      "outputs": [
        {
          "output_type": "display_data",
          "data": {
            "image/png": "[encoded data removed]",
            "text/plain": [
              "<Figure size 864x864 with 2 Axes>"
            ]
          },
          "metadata": {
            "tags": [],
            "needs_background": "light"
          }
        },
        {
          "output_type": "stream",
          "text": [
            "CPU times: user 512 ms, sys: 22.5 ms, total: 534 ms\n",
            "Wall time: 517 ms\n"
          ],
          "name": "stdout"
        }
      ]
    },
    {
      "cell_type": "code",
      "metadata": {
        "colab": {
          "base_uri": "https://localhost:8080/"
        },
        "id": "balanced-south",
        "outputId": "714bb360-066d-466a-e7f6-a99b2f95dc0a"
      },
      "source": [
        "print(classification_report(y_test_1d, y_pred_1d))"
      ],
      "id": "balanced-south",
      "execution_count": 54,
      "outputs": [
        {
          "output_type": "stream",
          "text": [
            "              precision    recall  f1-score   support\n",
            "\n",
            "    NEGATIVE       0.81      0.77      0.79     40036\n",
            "    POSITIVE       0.78      0.81      0.80     39964\n",
            "\n",
            "    accuracy                           0.79     80000\n",
            "   macro avg       0.79      0.79      0.79     80000\n",
            "weighted avg       0.79      0.79      0.79     80000\n",
            "\n"
          ],
          "name": "stdout"
        }
      ]
    },
    {
      "cell_type": "code",
      "metadata": {
        "colab": {
          "base_uri": "https://localhost:8080/"
        },
        "id": "considerable-blanket",
        "outputId": "5a1ddecc-d53c-4840-b034-04072462dbe9"
      },
      "source": [
        "accuracy_score(y_test_1d, y_pred_1d)"
      ],
      "id": "considerable-blanket",
      "execution_count": 55,
      "outputs": [
        {
          "output_type": "execute_result",
          "data": {
            "text/plain": [
              "0.7928375"
            ]
          },
          "metadata": {
            "tags": []
          },
          "execution_count": 55
        }
      ]
    },
    {
      "cell_type": "code",
      "metadata": {
        "id": "spare-henry"
      },
      "source": [
        "model.save(KERAS_MODEL)\n",
        "w2v_model.save(WORD2VEC_MODEL)\n",
        "pickle.dump(tokenizer, open(TOKENIZER_MODEL, \"wb\"), protocol=0)\n",
        "pickle.dump(encoder, open(ENCODER_MODEL, \"wb\"), protocol=0)"
      ],
      "id": "spare-henry",
      "execution_count": null,
      "outputs": []
    },
    {
      "cell_type": "code",
      "metadata": {
        "id": "corresponding-poetry"
      },
      "source": [
        ""
      ],
      "id": "corresponding-poetry",
      "execution_count": null,
      "outputs": []
    }
  ]
}
{
  "nbformat": 4,
  "nbformat_minor": 0,
  "metadata": {
    "colab": {
      "name": "C4_W2_Lab_3_MNIST_DeepAutoencoder.ipynb",
      "provenance": [],
      "collapsed_sections": []
    },
    "kernelspec": {
      "name": "python3",
      "display_name": "Python 3"
    },
    "accelerator": "GPU",
    "widgets": {
      "application/vnd.jupyter.widget-state+json": {
        "dc3352b3a7b7420f8eb891fbaf4cdcf6": {
          "model_module": "@jupyter-widgets/controls",
          "model_name": "HBoxModel",
          "state": {
            "_view_name": "HBoxView",
            "_dom_classes": [],
            "_model_name": "HBoxModel",
            "_view_module": "@jupyter-widgets/controls",
            "_model_module_version": "1.5.0",
            "_view_count": null,
            "_view_module_version": "1.5.0",
            "box_style": "",
            "layout": "IPY_MODEL_2bde3faf62864fa7b1315e8a8e08eeba",
            "_model_module": "@jupyter-widgets/controls",
            "children": [
              "IPY_MODEL_5ee000af80eb43429e6ce4c4b7ecd93e",
              "IPY_MODEL_45ad33f8ddd74ca381520fcb7cf892a1"
            ]
          }
        },
        "2bde3faf62864fa7b1315e8a8e08eeba": {
          "model_module": "@jupyter-widgets/base",
          "model_name": "LayoutModel",
          "state": {
            "_view_name": "LayoutView",
            "grid_template_rows": null,
            "right": null,
            "justify_content": null,
            "_view_module": "@jupyter-widgets/base",
            "overflow": null,
            "_model_module_version": "1.2.0",
            "_view_count": null,
            "flex_flow": null,
            "width": null,
            "min_width": null,
            "border": null,
            "align_items": null,
            "bottom": null,
            "_model_module": "@jupyter-widgets/base",
            "top": null,
            "grid_column": null,
            "overflow_y": null,
            "overflow_x": null,
            "grid_auto_flow": null,
            "grid_area": null,
            "grid_template_columns": null,
            "flex": null,
            "_model_name": "LayoutModel",
            "justify_items": null,
            "grid_row": null,
            "max_height": null,
            "align_content": null,
            "visibility": null,
            "align_self": null,
            "height": null,
            "min_height": null,
            "padding": null,
            "grid_auto_rows": null,
            "grid_gap": null,
            "max_width": null,
            "order": null,
            "_view_module_version": "1.2.0",
            "grid_template_areas": null,
            "object_position": null,
            "object_fit": null,
            "grid_auto_columns": null,
            "margin": null,
            "display": null,
            "left": null
          }
        },
        "5ee000af80eb43429e6ce4c4b7ecd93e": {
          "model_module": "@jupyter-widgets/controls",
          "model_name": "FloatProgressModel",
          "state": {
            "_view_name": "ProgressView",
            "style": "IPY_MODEL_eae16abbdcb74c759cb984f4b0220978",
            "_dom_classes": [],
            "description": "Dl Completed...: 100%",
            "_model_name": "FloatProgressModel",
            "bar_style": "success",
            "max": 4,
            "_view_module": "@jupyter-widgets/controls",
            "_model_module_version": "1.5.0",
            "value": 4,
            "_view_count": null,
            "_view_module_version": "1.5.0",
            "orientation": "horizontal",
            "min": 0,
            "description_tooltip": null,
            "_model_module": "@jupyter-widgets/controls",
            "layout": "IPY_MODEL_d1e8ad68850843cc917b84be7361f8d9"
          }
        },
        "45ad33f8ddd74ca381520fcb7cf892a1": {
          "model_module": "@jupyter-widgets/controls",
          "model_name": "HTMLModel",
          "state": {
            "_view_name": "HTMLView",
            "style": "IPY_MODEL_0ef5898f6a324216806d88273cae8ee4",
            "_dom_classes": [],
            "description": "",
            "_model_name": "HTMLModel",
            "placeholder": "​",
            "_view_module": "@jupyter-widgets/controls",
            "_model_module_version": "1.5.0",
            "value": " 4/4 [00:06&lt;00:00,  1.51s/ file]",
            "_view_count": null,
            "_view_module_version": "1.5.0",
            "description_tooltip": null,
            "_model_module": "@jupyter-widgets/controls",
            "layout": "IPY_MODEL_9aa3da959112477b845e7d232e35dc39"
          }
        },
        "eae16abbdcb74c759cb984f4b0220978": {
          "model_module": "@jupyter-widgets/controls",
          "model_name": "ProgressStyleModel",
          "state": {
            "_view_name": "StyleView",
            "_model_name": "ProgressStyleModel",
            "description_width": "initial",
            "_view_module": "@jupyter-widgets/base",
            "_model_module_version": "1.5.0",
            "_view_count": null,
            "_view_module_version": "1.2.0",
            "bar_color": null,
            "_model_module": "@jupyter-widgets/controls"
          }
        },
        "d1e8ad68850843cc917b84be7361f8d9": {
          "model_module": "@jupyter-widgets/base",
          "model_name": "LayoutModel",
          "state": {
            "_view_name": "LayoutView",
            "grid_template_rows": null,
            "right": null,
            "justify_content": null,
            "_view_module": "@jupyter-widgets/base",
            "overflow": null,
            "_model_module_version": "1.2.0",
            "_view_count": null,
            "flex_flow": null,
            "width": null,
            "min_width": null,
            "border": null,
            "align_items": null,
            "bottom": null,
            "_model_module": "@jupyter-widgets/base",
            "top": null,
            "grid_column": null,
            "overflow_y": null,
            "overflow_x": null,
            "grid_auto_flow": null,
            "grid_area": null,
            "grid_template_columns": null,
            "flex": null,
            "_model_name": "LayoutModel",
            "justify_items": null,
            "grid_row": null,
            "max_height": null,
            "align_content": null,
            "visibility": null,
            "align_self": null,
            "height": null,
            "min_height": null,
            "padding": null,
            "grid_auto_rows": null,
            "grid_gap": null,
            "max_width": null,
            "order": null,
            "_view_module_version": "1.2.0",
            "grid_template_areas": null,
            "object_position": null,
            "object_fit": null,
            "grid_auto_columns": null,
            "margin": null,
            "display": null,
            "left": null
          }
        },
        "0ef5898f6a324216806d88273cae8ee4": {
          "model_module": "@jupyter-widgets/controls",
          "model_name": "DescriptionStyleModel",
          "state": {
            "_view_name": "StyleView",
            "_model_name": "DescriptionStyleModel",
            "description_width": "",
            "_view_module": "@jupyter-widgets/base",
            "_model_module_version": "1.5.0",
            "_view_count": null,
            "_view_module_version": "1.2.0",
            "_model_module": "@jupyter-widgets/controls"
          }
        },
        "9aa3da959112477b845e7d232e35dc39": {
          "model_module": "@jupyter-widgets/base",
          "model_name": "LayoutModel",
          "state": {
            "_view_name": "LayoutView",
            "grid_template_rows": null,
            "right": null,
            "justify_content": null,
            "_view_module": "@jupyter-widgets/base",
            "overflow": null,
            "_model_module_version": "1.2.0",
            "_view_count": null,
            "flex_flow": null,
            "width": null,
            "min_width": null,
            "border": null,
            "align_items": null,
            "bottom": null,
            "_model_module": "@jupyter-widgets/base",
            "top": null,
            "grid_column": null,
            "overflow_y": null,
            "overflow_x": null,
            "grid_auto_flow": null,
            "grid_area": null,
            "grid_template_columns": null,
            "flex": null,
            "_model_name": "LayoutModel",
            "justify_items": null,
            "grid_row": null,
            "max_height": null,
            "align_content": null,
            "visibility": null,
            "align_self": null,
            "height": null,
            "min_height": null,
            "padding": null,
            "grid_auto_rows": null,
            "grid_gap": null,
            "max_width": null,
            "order": null,
            "_view_module_version": "1.2.0",
            "grid_template_areas": null,
            "object_position": null,
            "object_fit": null,
            "grid_auto_columns": null,
            "margin": null,
            "display": null,
            "left": null
          }
        }
      }
    }
  },
  "cells": [
    {
      "cell_type": "markdown",
      "metadata": {
        "id": "hSmjE4t1dKnG"
      },
      "source": [
        "# Ungraded Lab: MNIST Deep Autoencoder\n",
        "\n",
        "Welcome back! In this lab, you will extend the shallow autoencoder you built in the previous exercise. The model here will have a deeper network so it can handle more complex images."
      ]
    },
    {
      "cell_type": "markdown",
      "metadata": {
        "id": "zTTfAJbudq7l"
      },
      "source": [
        "## Imports"
      ]
    },
    {
      "cell_type": "code",
      "metadata": {
        "id": "3EXwoz-KHtWO"
      },
      "source": [
        "try:\n",
        "  # %tensorflow_version only exists in Colab.\n",
        "  %tensorflow_version 2.x\n",
        "except Exception:\n",
        "  pass\n",
        "  \n",
        "import tensorflow as tf\n",
        "import tensorflow_datasets as tfds\n",
        "\n",
        "import numpy as np\n",
        "import matplotlib.pyplot as plt"
      ],
      "execution_count": 1,
      "outputs": []
    },
    {
      "cell_type": "markdown",
      "metadata": {
        "id": "25T24ET7e0ub"
      },
      "source": [
        "## Prepare the Dataset"
      ]
    },
    {
      "cell_type": "markdown",
      "metadata": {
        "id": "4RJB4eae0rgU"
      },
      "source": [
        "You will prepare the MNIST dataset just like in the previous lab."
      ]
    },
    {
      "cell_type": "code",
      "metadata": {
        "id": "5BMJF86p0d08"
      },
      "source": [
        "def map_image(image, label):\n",
        "  '''Normalizes and flattens the image. Returns image as input and label.'''\n",
        "  image = tf.cast(image, dtype=tf.float32)\n",
        "  image = image / 255.0\n",
        "  image = tf.reshape(image, shape=(784,))\n",
        "\n",
        "  return image, image"
      ],
      "execution_count": 2,
      "outputs": []
    },
    {
      "cell_type": "code",
      "metadata": {
        "id": "t9F7YsCNIKSA",
        "colab": {
          "base_uri": "https://localhost:8080/",
          "height": 220,
          "referenced_widgets": [
            "dc3352b3a7b7420f8eb891fbaf4cdcf6",
            "2bde3faf62864fa7b1315e8a8e08eeba",
            "5ee000af80eb43429e6ce4c4b7ecd93e",
            "45ad33f8ddd74ca381520fcb7cf892a1",
            "eae16abbdcb74c759cb984f4b0220978",
            "d1e8ad68850843cc917b84be7361f8d9",
            "0ef5898f6a324216806d88273cae8ee4",
            "9aa3da959112477b845e7d232e35dc39"
          ]
        },
        "outputId": "e5414837-9a30-4873-dbc1-4ccd0368e116"
      },
      "source": [
        "# Load the train and test sets from TFDS\n",
        "\n",
        "BATCH_SIZE = 128\n",
        "SHUFFLE_BUFFER_SIZE = 1024\n",
        "\n",
        "train_dataset = tfds.load('mnist', as_supervised=True, split=\"train\")\n",
        "train_dataset = train_dataset.map(map_image)\n",
        "train_dataset = train_dataset.shuffle(SHUFFLE_BUFFER_SIZE).batch(BATCH_SIZE).repeat()\n",
        "\n",
        "test_dataset = tfds.load('mnist', as_supervised=True, split=\"test\")\n",
        "test_dataset = test_dataset.map(map_image)\n",
        "test_dataset = test_dataset.batch(BATCH_SIZE).repeat()"
      ],
      "execution_count": 3,
      "outputs": [
        {
          "output_type": "stream",
          "text": [
            "\u001b[1mDownloading and preparing dataset mnist/3.0.1 (download: 11.06 MiB, generated: 21.00 MiB, total: 32.06 MiB) to /root/tensorflow_datasets/mnist/3.0.1...\u001b[0m\n"
          ],
          "name": "stdout"
        },
        {
          "output_type": "stream",
          "text": [
            "WARNING:absl:Dataset mnist is hosted on GCS. It will automatically be downloaded to your\n",
            "local data directory. If you'd instead prefer to read directly from our public\n",
            "GCS bucket (recommended if you're running on GCP), you can instead pass\n",
            "`try_gcs=True` to `tfds.load` or set `data_dir=gs://tfds-data/datasets`.\n",
            "\n"
          ],
          "name": "stderr"
        },
        {
          "output_type": "display_data",
          "data": {
            "application/vnd.jupyter.widget-view+json": {
              "model_id": "dc3352b3a7b7420f8eb891fbaf4cdcf6",
              "version_minor": 0,
              "version_major": 2
            },
            "text/plain": [
              "HBox(children=(FloatProgress(value=0.0, description='Dl Completed...', max=4.0, style=ProgressStyle(descriptio…"
            ]
          },
          "metadata": {
            "tags": []
          }
        },
        {
          "output_type": "stream",
          "text": [
            "\n",
            "\n",
            "\u001b[1mDataset mnist downloaded and prepared to /root/tensorflow_datasets/mnist/3.0.1. Subsequent calls will reuse this data.\u001b[0m\n"
          ],
          "name": "stdout"
        }
      ]
    },
    {
      "cell_type": "markdown",
      "metadata": {
        "id": "Ji6sa0SXe3zP"
      },
      "source": [
        "## Build the Model"
      ]
    },
    {
      "cell_type": "markdown",
      "metadata": {
        "id": "x8OFTvkO02gV"
      },
      "source": [
        "As mentioned, you will have a deeper network for the autoencoder. Compare the layers here with that of the shallow network you built in the previous lab."
      ]
    },
    {
      "cell_type": "code",
      "metadata": {
        "id": "KRrE2BV4IpzR"
      },
      "source": [
        "def deep_autoencoder():\n",
        "  '''Builds the encoder and decoder using Dense layers.'''\n",
        "  encoder = tf.keras.layers.Dense(units=128, activation='relu')(inputs)\n",
        "  encoder = tf.keras.layers.Dense(units=64, activation='relu')(encoder)\n",
        "  encoder = tf.keras.layers.Dense(units=32, activation='relu')(encoder)\n",
        "\n",
        "  decoder = tf.keras.layers.Dense(units=64, activation='relu')(encoder)\n",
        "  decoder = tf.keras.layers.Dense(units=128, activation='relu')(decoder)\n",
        "  decoder = tf.keras.layers.Dense(units=784, activation='sigmoid')(decoder)\n",
        "  \n",
        "  return encoder, decoder\n",
        "\n",
        "# set the input tensor\n",
        "inputs =  tf.keras.layers.Input(shape=(784,))\n",
        "\n",
        "# get the encoder and decoder output\n",
        "deep_encoder_output, deep_autoencoder_output = deep_autoencoder()\n",
        "\n",
        "# setup the encoder because you will visualize its output later\n",
        "deep_encoder_model = tf.keras.Model(inputs=inputs, outputs=deep_encoder_output)\n",
        "\n",
        "# setup the autoencoder\n",
        "deep_autoencoder_model = tf.keras.Model(inputs=inputs, outputs=deep_autoencoder_output)"
      ],
      "execution_count": 4,
      "outputs": []
    },
    {
      "cell_type": "markdown",
      "metadata": {
        "id": "5zG5ml6ufAz7"
      },
      "source": [
        "## Compile and Train the Model"
      ]
    },
    {
      "cell_type": "code",
      "metadata": {
        "id": "gj3xr9gxfAqP",
        "colab": {
          "base_uri": "https://localhost:8080/"
        },
        "outputId": "f5d3923f-30d2-4f7c-92ee-a3696b5dc013"
      },
      "source": [
        "train_steps = 60000 // BATCH_SIZE\n",
        "\n",
        "deep_autoencoder_model.compile(optimizer=tf.keras.optimizers.Adam(), loss='binary_crossentropy')\n",
        "deep_auto_history = deep_autoencoder_model.fit(train_dataset, steps_per_epoch=train_steps, epochs=50)"
      ],
      "execution_count": 5,
      "outputs": [
        {
          "output_type": "stream",
          "text": [
            "Epoch 1/50\n",
            "468/468 [==============================] - 7s 11ms/step - loss: 0.2796\n",
            "Epoch 2/50\n",
            "468/468 [==============================] - 3s 6ms/step - loss: 0.1341\n",
            "Epoch 3/50\n",
            "468/468 [==============================] - 3s 6ms/step - loss: 0.1184\n",
            "Epoch 4/50\n",
            "468/468 [==============================] - 3s 6ms/step - loss: 0.1103\n",
            "Epoch 5/50\n",
            "468/468 [==============================] - 3s 6ms/step - loss: 0.1051\n",
            "Epoch 6/50\n",
            "468/468 [==============================] - 3s 6ms/step - loss: 0.1017\n",
            "Epoch 7/50\n",
            "468/468 [==============================] - 3s 6ms/step - loss: 0.0991\n",
            "Epoch 8/50\n",
            "468/468 [==============================] - 3s 6ms/step - loss: 0.0972\n",
            "Epoch 9/50\n",
            "468/468 [==============================] - 3s 6ms/step - loss: 0.0956\n",
            "Epoch 10/50\n",
            "468/468 [==============================] - 3s 6ms/step - loss: 0.0940\n",
            "Epoch 11/50\n",
            "468/468 [==============================] - 3s 6ms/step - loss: 0.0925\n",
            "Epoch 12/50\n",
            "468/468 [==============================] - 3s 6ms/step - loss: 0.0915\n",
            "Epoch 13/50\n",
            "468/468 [==============================] - 3s 6ms/step - loss: 0.0906\n",
            "Epoch 14/50\n",
            "468/468 [==============================] - 3s 6ms/step - loss: 0.0900\n",
            "Epoch 15/50\n",
            "468/468 [==============================] - 3s 6ms/step - loss: 0.0894\n",
            "Epoch 16/50\n",
            "468/468 [==============================] - 3s 6ms/step - loss: 0.0887\n",
            "Epoch 17/50\n",
            "468/468 [==============================] - 3s 6ms/step - loss: 0.0882\n",
            "Epoch 18/50\n",
            "468/468 [==============================] - 3s 6ms/step - loss: 0.0878\n",
            "Epoch 19/50\n",
            "468/468 [==============================] - 3s 6ms/step - loss: 0.0873\n",
            "Epoch 20/50\n",
            "468/468 [==============================] - 3s 6ms/step - loss: 0.0868\n",
            "Epoch 21/50\n",
            "468/468 [==============================] - 3s 6ms/step - loss: 0.0864\n",
            "Epoch 22/50\n",
            "468/468 [==============================] - 3s 6ms/step - loss: 0.0861\n",
            "Epoch 23/50\n",
            "468/468 [==============================] - 3s 6ms/step - loss: 0.0855\n",
            "Epoch 24/50\n",
            "468/468 [==============================] - 3s 6ms/step - loss: 0.0852\n",
            "Epoch 25/50\n",
            "468/468 [==============================] - 3s 6ms/step - loss: 0.0848\n",
            "Epoch 26/50\n",
            "468/468 [==============================] - 3s 6ms/step - loss: 0.0845\n",
            "Epoch 27/50\n",
            "468/468 [==============================] - 3s 6ms/step - loss: 0.0842\n",
            "Epoch 28/50\n",
            "468/468 [==============================] - 3s 6ms/step - loss: 0.0840\n",
            "Epoch 29/50\n",
            "468/468 [==============================] - 3s 6ms/step - loss: 0.0837\n",
            "Epoch 30/50\n",
            "468/468 [==============================] - 3s 6ms/step - loss: 0.0835\n",
            "Epoch 31/50\n",
            "468/468 [==============================] - 3s 6ms/step - loss: 0.0833\n",
            "Epoch 32/50\n",
            "468/468 [==============================] - 3s 6ms/step - loss: 0.0831\n",
            "Epoch 33/50\n",
            "468/468 [==============================] - 3s 6ms/step - loss: 0.0828\n",
            "Epoch 34/50\n",
            "468/468 [==============================] - 3s 6ms/step - loss: 0.0828\n",
            "Epoch 35/50\n",
            "468/468 [==============================] - 3s 6ms/step - loss: 0.0824\n",
            "Epoch 36/50\n",
            "468/468 [==============================] - 3s 6ms/step - loss: 0.0823\n",
            "Epoch 37/50\n",
            "468/468 [==============================] - 3s 6ms/step - loss: 0.0821\n",
            "Epoch 38/50\n",
            "468/468 [==============================] - 3s 6ms/step - loss: 0.0820\n",
            "Epoch 39/50\n",
            "468/468 [==============================] - 3s 6ms/step - loss: 0.0819\n",
            "Epoch 40/50\n",
            "468/468 [==============================] - 3s 6ms/step - loss: 0.0818\n",
            "Epoch 41/50\n",
            "468/468 [==============================] - 3s 6ms/step - loss: 0.0817\n",
            "Epoch 42/50\n",
            "468/468 [==============================] - 3s 6ms/step - loss: 0.0815\n",
            "Epoch 43/50\n",
            "468/468 [==============================] - 3s 6ms/step - loss: 0.0815\n",
            "Epoch 44/50\n",
            "468/468 [==============================] - 3s 6ms/step - loss: 0.0815\n",
            "Epoch 45/50\n",
            "468/468 [==============================] - 3s 6ms/step - loss: 0.0813\n",
            "Epoch 46/50\n",
            "468/468 [==============================] - 3s 6ms/step - loss: 0.0812\n",
            "Epoch 47/50\n",
            "468/468 [==============================] - 3s 6ms/step - loss: 0.0811\n",
            "Epoch 48/50\n",
            "468/468 [==============================] - 3s 6ms/step - loss: 0.0811\n",
            "Epoch 49/50\n",
            "468/468 [==============================] - 3s 6ms/step - loss: 0.0809\n",
            "Epoch 50/50\n",
            "468/468 [==============================] - 3s 6ms/step - loss: 0.0809\n"
          ],
          "name": "stdout"
        }
      ]
    },
    {
      "cell_type": "markdown",
      "metadata": {
        "id": "n1XL84ydfGEh"
      },
      "source": [
        "## Display sample results\n",
        "\n",
        "See the results using the model you just trained."
      ]
    },
    {
      "cell_type": "code",
      "metadata": {
        "id": "GcR54SEZ1-XF"
      },
      "source": [
        "def display_one_row(disp_images, offset, shape=(28, 28)):\n",
        "  '''Display sample outputs in one row.'''\n",
        "  for idx, test_image in enumerate(disp_images):\n",
        "    plt.subplot(3, 10, offset + idx + 1)\n",
        "    plt.xticks([])\n",
        "    plt.yticks([])\n",
        "    test_image = np.reshape(test_image, shape)\n",
        "    plt.imshow(test_image, cmap='gray')\n",
        "\n",
        "\n",
        "def display_results(disp_input_images, disp_encoded, disp_predicted, enc_shape=(8,4)):\n",
        "  '''Displays the input, encoded, and decoded output values.'''\n",
        "  plt.figure(figsize=(15, 5))\n",
        "  display_one_row(disp_input_images, 0, shape=(28,28,))\n",
        "  display_one_row(disp_encoded, 10, shape=enc_shape)\n",
        "  display_one_row(disp_predicted, 20, shape=(28,28,))"
      ],
      "execution_count": 6,
      "outputs": []
    },
    {
      "cell_type": "code",
      "metadata": {
        "id": "qtQyQRxRN_hH",
        "colab": {
          "base_uri": "https://localhost:8080/",
          "height": 297
        },
        "outputId": "adb2bfff-543e-477c-c2b1-fb3dff0700e9"
      },
      "source": [
        "# take 1 batch of the dataset\n",
        "test_dataset = test_dataset.take(1)\n",
        "\n",
        "# take the input images and put them in a list\n",
        "output_samples = []\n",
        "for input_image, image in tfds.as_numpy(test_dataset):\n",
        "      output_samples = input_image\n",
        "\n",
        "# pick 10 random numbers to be used as indices to the list above\n",
        "idxs = np.random.choice(BATCH_SIZE, size=10)\n",
        "\n",
        "# get the encoder output\n",
        "encoded_predicted = deep_encoder_model.predict(test_dataset)\n",
        "\n",
        "# get a prediction for the test batch\n",
        "deep_predicted = deep_autoencoder_model.predict(test_dataset)\n",
        "\n",
        "# display the 10 samples, encodings and decoded values!\n",
        "display_results(output_samples[idxs], encoded_predicted[idxs], deep_predicted[idxs])"
      ],
      "execution_count": 7,
      "outputs": [
        {
          "output_type": "display_data",
          "data": {
            "image/png": "[encoded data removed]",
            "text/plain": [
              "<Figure size 1080x360 with 30 Axes>"
            ]
          },
          "metadata": {
            "tags": []
          }
        }
      ]
    },
    {
      "cell_type": "code",
      "metadata": {
        "id": "gc-Oi3keYWLm"
      },
      "source": [
        ""
      ],
      "execution_count": null,
      "outputs": []
    }
  ]
}
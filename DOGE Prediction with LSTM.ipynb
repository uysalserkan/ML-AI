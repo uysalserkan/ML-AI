{
 "cells": [
  {
   "cell_type": "code",
   "execution_count": 1,
   "id": "classical-update",
   "metadata": {},
   "outputs": [],
   "source": [
    "# Import libraries\n",
    "\n",
    "import numpy as np\n",
    "import pandas as pd\n",
    "import matplotlib.pyplot as plt\n",
    "import pandas_datareader as web\n",
    "import datetime as dt\n",
    "\n",
    "from sklearn.preprocessing import MinMaxScaler\n",
    "from tensorflow.keras.layers import Dense, LSTM, Dropout\n",
    "from tensorflow.keras.models import Sequential"
   ]
  },
  {
   "cell_type": "code",
   "execution_count": 2,
   "id": "interpreted-chess",
   "metadata": {},
   "outputs": [],
   "source": [
    "currency = 'DOGE-USD'"
   ]
  },
  {
   "cell_type": "code",
   "execution_count": 3,
   "id": "acting-joyce",
   "metadata": {},
   "outputs": [],
   "source": [
    "start_time = dt.datetime(2015, 8, 25)\n",
    "end_time = dt.datetime.now()"
   ]
  },
  {
   "cell_type": "code",
   "execution_count": 4,
   "id": "upset-cloud",
   "metadata": {},
   "outputs": [],
   "source": [
    "df = web.DataReader(currency, 'yahoo', start_time, end_time)"
   ]
  },
  {
   "cell_type": "code",
   "execution_count": 5,
   "id": "flying-princeton",
   "metadata": {},
   "outputs": [
    {
     "data": {
      "text/html": [
       "<div>\n",
       "<style scoped>\n",
       "    .dataframe tbody tr th:only-of-type {\n",
       "        vertical-align: middle;\n",
       "    }\n",
       "\n",
       "    .dataframe tbody tr th {\n",
       "        vertical-align: top;\n",
       "    }\n",
       "\n",
       "    .dataframe thead th {\n",
       "        text-align: right;\n",
       "    }\n",
       "</style>\n",
       "<table border=\"1\" class=\"dataframe\">\n",
       "  <thead>\n",
       "    <tr style=\"text-align: right;\">\n",
       "      <th></th>\n",
       "      <th>High</th>\n",
       "      <th>Low</th>\n",
       "      <th>Open</th>\n",
       "      <th>Close</th>\n",
       "      <th>Volume</th>\n",
       "      <th>Adj Close</th>\n",
       "    </tr>\n",
       "    <tr>\n",
       "      <th>Date</th>\n",
       "      <th></th>\n",
       "      <th></th>\n",
       "      <th></th>\n",
       "      <th></th>\n",
       "      <th></th>\n",
       "      <th></th>\n",
       "    </tr>\n",
       "  </thead>\n",
       "  <tbody>\n",
       "    <tr>\n",
       "      <th>2021-02-02</th>\n",
       "      <td>0.034926</td>\n",
       "      <td>0.029195</td>\n",
       "      <td>0.034910</td>\n",
       "      <td>0.031520</td>\n",
       "      <td>3.090897e+09</td>\n",
       "      <td>0.031520</td>\n",
       "    </tr>\n",
       "    <tr>\n",
       "      <th>2017-02-24</th>\n",
       "      <td>0.000211</td>\n",
       "      <td>0.000202</td>\n",
       "      <td>0.000208</td>\n",
       "      <td>0.000208</td>\n",
       "      <td>1.182020e+05</td>\n",
       "      <td>0.000208</td>\n",
       "    </tr>\n",
       "    <tr>\n",
       "      <th>2019-01-30</th>\n",
       "      <td>0.001970</td>\n",
       "      <td>0.001914</td>\n",
       "      <td>0.001925</td>\n",
       "      <td>0.001961</td>\n",
       "      <td>1.181302e+07</td>\n",
       "      <td>0.001961</td>\n",
       "    </tr>\n",
       "    <tr>\n",
       "      <th>2017-02-06</th>\n",
       "      <td>0.000216</td>\n",
       "      <td>0.000208</td>\n",
       "      <td>0.000210</td>\n",
       "      <td>0.000214</td>\n",
       "      <td>9.088400e+04</td>\n",
       "      <td>0.000214</td>\n",
       "    </tr>\n",
       "    <tr>\n",
       "      <th>2016-12-05</th>\n",
       "      <td>0.000217</td>\n",
       "      <td>0.000208</td>\n",
       "      <td>0.000216</td>\n",
       "      <td>0.000215</td>\n",
       "      <td>1.255420e+05</td>\n",
       "      <td>0.000215</td>\n",
       "    </tr>\n",
       "  </tbody>\n",
       "</table>\n",
       "</div>"
      ],
      "text/plain": [
       "                High       Low      Open     Close        Volume  Adj Close\n",
       "Date                                                                       \n",
       "2021-02-02  0.034926  0.029195  0.034910  0.031520  3.090897e+09   0.031520\n",
       "2017-02-24  0.000211  0.000202  0.000208  0.000208  1.182020e+05   0.000208\n",
       "2019-01-30  0.001970  0.001914  0.001925  0.001961  1.181302e+07   0.001961\n",
       "2017-02-06  0.000216  0.000208  0.000210  0.000214  9.088400e+04   0.000214\n",
       "2016-12-05  0.000217  0.000208  0.000216  0.000215  1.255420e+05   0.000215"
      ]
     },
     "execution_count": 5,
     "metadata": {},
     "output_type": "execute_result"
    }
   ],
   "source": [
    "df.sample(5)"
   ]
  },
  {
   "cell_type": "code",
   "execution_count": 6,
   "id": "valuable-terminology",
   "metadata": {},
   "outputs": [],
   "source": [
    "# Preparing data"
   ]
  },
  {
   "cell_type": "code",
   "execution_count": 7,
   "id": "legal-grenada",
   "metadata": {},
   "outputs": [],
   "source": [
    "scaler = MinMaxScaler()\n",
    "scaled_data = scaler.fit_transform(df['Close'].values.reshape(-1, 1))"
   ]
  },
  {
   "cell_type": "code",
   "execution_count": 8,
   "id": "antique-memory",
   "metadata": {},
   "outputs": [],
   "source": [
    "prediction_days = 90\n",
    "\n",
    "x_train = []\n",
    "y_train = []\n",
    "\n",
    "for x in range(prediction_days, len(scaled_data)):\n",
    "    x_train.append(scaled_data[x- prediction_days:x, 0])\n",
    "    y_train.append(scaled_data[x, 0])\n",
    "\n",
    "x_train = np.array(x_train)\n",
    "y_train = np.array(y_train)\n",
    "\n",
    "x_train = np.reshape(x_train, (x_train.shape[0], x_train.shape[1], 1))"
   ]
  },
  {
   "cell_type": "code",
   "execution_count": 9,
   "id": "entertaining-arkansas",
   "metadata": {},
   "outputs": [],
   "source": [
    "# Build the model"
   ]
  },
  {
   "cell_type": "code",
   "execution_count": 10,
   "id": "featured-ancient",
   "metadata": {
    "scrolled": true,
    "tags": []
   },
   "outputs": [
    {
     "name": "stdout",
     "output_type": "stream",
     "text": [
      "Epoch 1/75\n",
      "16/16 [==============================] - 5s 146ms/step - loss: 0.0033 - acc: 0.0000e+00\n",
      "Epoch 2/75\n",
      "16/16 [==============================] - 2s 155ms/step - loss: 0.0011 - acc: 0.0000e+00\n",
      "Epoch 3/75\n",
      "16/16 [==============================] - 3s 156ms/step - loss: 0.0014 - acc: 0.0000e+00\n",
      "Epoch 4/75\n",
      "16/16 [==============================] - 3s 165ms/step - loss: 7.8917e-04 - acc: 0.0000e+00\n",
      "Epoch 5/75\n",
      "16/16 [==============================] - 3s 184ms/step - loss: 0.0012 - acc: 0.0000e+00\n",
      "Epoch 6/75\n",
      "16/16 [==============================] - 3s 176ms/step - loss: 6.6407e-04 - acc: 0.0000e+00\n",
      "Epoch 7/75\n",
      "16/16 [==============================] - 3s 182ms/step - loss: 8.8857e-04 - acc: 0.0000e+00\n",
      "Epoch 8/75\n",
      "16/16 [==============================] - 2s 145ms/step - loss: 0.0011 - acc: 0.0000e+00\n",
      "Epoch 9/75\n",
      "16/16 [==============================] - 2s 147ms/step - loss: 8.0794e-04 - acc: 0.0000e+00\n",
      "Epoch 10/75\n",
      "16/16 [==============================] - 3s 161ms/step - loss: 7.6585e-04 - acc: 0.0000e+00\n",
      "Epoch 11/75\n",
      "16/16 [==============================] - 3s 157ms/step - loss: 9.6456e-04 - acc: 0.0000e+00\n",
      "Epoch 12/75\n",
      "16/16 [==============================] - 2s 151ms/step - loss: 9.5943e-04 - acc: 4.5836e-04\n",
      "Epoch 13/75\n",
      "16/16 [==============================] - 2s 154ms/step - loss: 9.1715e-04 - acc: 0.0000e+00\n",
      "Epoch 14/75\n",
      "16/16 [==============================] - 2s 145ms/step - loss: 7.5581e-04 - acc: 0.0011\n",
      "Epoch 15/75\n",
      "16/16 [==============================] - 2s 155ms/step - loss: 4.4523e-04 - acc: 0.0000e+00\n",
      "Epoch 16/75\n",
      "16/16 [==============================] - 2s 148ms/step - loss: 0.0012 - acc: 0.0011\n",
      "Epoch 17/75\n",
      "16/16 [==============================] - 3s 158ms/step - loss: 9.0915e-04 - acc: 0.0000e+00\n",
      "Epoch 18/75\n",
      "16/16 [==============================] - 2s 155ms/step - loss: 5.0855e-04 - acc: 2.8420e-04\n",
      "Epoch 19/75\n",
      "16/16 [==============================] - 2s 152ms/step - loss: 5.3946e-04 - acc: 2.3825e-04\n",
      "Epoch 20/75\n",
      "16/16 [==============================] - 2s 146ms/step - loss: 6.4290e-04 - acc: 1.9647e-04\n",
      "Epoch 21/75\n",
      "16/16 [==============================] - 2s 153ms/step - loss: 5.5958e-04 - acc: 1.5817e-04\n",
      "Epoch 22/75\n",
      "16/16 [==============================] - 3s 170ms/step - loss: 7.5371e-04 - acc: 5.3495e-04\n",
      "Epoch 23/75\n",
      "16/16 [==============================] - 3s 163ms/step - loss: 6.1514e-04 - acc: 1.2282e-04\n",
      "Epoch 24/75\n",
      "16/16 [==============================] - 3s 158ms/step - loss: 8.4522e-04 - acc: 0.0000e+00\n",
      "Epoch 25/75\n",
      "16/16 [==============================] - 3s 179ms/step - loss: 4.2630e-04 - acc: 3.9271e-04\n",
      "Epoch 26/75\n",
      "16/16 [==============================] - 3s 172ms/step - loss: 3.8349e-04 - acc: 6.2686e-04\n",
      "Epoch 27/75\n",
      "16/16 [==============================] - 3s 167ms/step - loss: 5.2345e-04 - acc: 8.9995e-05\n",
      "Epoch 28/75\n",
      "16/16 [==============================] - 3s 158ms/step - loss: 5.3295e-04 - acc: 6.2686e-04\n",
      "Epoch 29/75\n",
      "16/16 [==============================] - 2s 152ms/step - loss: 7.7071e-04 - acc: 2.3825e-04\n",
      "Epoch 30/75\n",
      "16/16 [==============================] - 3s 166ms/step - loss: 5.4565e-04 - acc: 0.0011\n",
      "Epoch 31/75\n",
      "16/16 [==============================] - 2s 151ms/step - loss: 6.9367e-04 - acc: 0.0016\n",
      "Epoch 32/75\n",
      "16/16 [==============================] - 2s 152ms/step - loss: 4.0802e-04 - acc: 2.8420e-04\n",
      "Epoch 33/75\n",
      "16/16 [==============================] - 3s 158ms/step - loss: 8.4737e-04 - acc: 2.3825e-04\n",
      "Epoch 34/75\n",
      "16/16 [==============================] - 3s 163ms/step - loss: 7.4386e-04 - acc: 0.0016\n",
      "Epoch 35/75\n",
      "16/16 [==============================] - 2s 152ms/step - loss: 3.8079e-04 - acc: 5.9358e-05\n",
      "Epoch 36/75\n",
      "16/16 [==============================] - 3s 163ms/step - loss: 2.4806e-04 - acc: 1.9647e-04\n",
      "Epoch 37/75\n",
      "16/16 [==============================] - 3s 174ms/step - loss: 2.3836e-04 - acc: 4.5836e-04\n",
      "Epoch 38/75\n",
      "16/16 [==============================] - 3s 174ms/step - loss: 3.2539e-04 - acc: 0.0011\n",
      "Epoch 39/75\n",
      "16/16 [==============================] - 2s 150ms/step - loss: 7.6974e-04 - acc: 7.4175e-04\n",
      "Epoch 40/75\n",
      "16/16 [==============================] - 2s 148ms/step - loss: 5.6614e-04 - acc: 1.9647e-04\n",
      "Epoch 41/75\n",
      "16/16 [==============================] - 2s 147ms/step - loss: 3.2182e-04 - acc: 3.9271e-04\n",
      "Epoch 42/75\n",
      "16/16 [==============================] - 3s 168ms/step - loss: 5.7799e-04 - acc: 3.3526e-04\n",
      "Epoch 43/75\n",
      "16/16 [==============================] - 2s 149ms/step - loss: 2.1896e-04 - acc: 8.9995e-05\n",
      "Epoch 44/75\n",
      "16/16 [==============================] - 3s 158ms/step - loss: 3.1322e-04 - acc: 1.2282e-04\n",
      "Epoch 45/75\n",
      "16/16 [==============================] - 3s 157ms/step - loss: 2.5240e-04 - acc: 3.3526e-04\n",
      "Epoch 46/75\n",
      "16/16 [==============================] - 3s 157ms/step - loss: 3.0295e-04 - acc: 7.4175e-04\n",
      "Epoch 47/75\n",
      "16/16 [==============================] - 3s 166ms/step - loss: 4.9537e-04 - acc: 8.9995e-05\n",
      "Epoch 48/75\n",
      "16/16 [==============================] - 2s 150ms/step - loss: 1.4441e-04 - acc: 5.9358e-05\n",
      "Epoch 49/75\n",
      "16/16 [==============================] - 2s 147ms/step - loss: 2.2378e-04 - acc: 5.9358e-05\n",
      "Epoch 50/75\n",
      "16/16 [==============================] - 2s 151ms/step - loss: 3.2374e-04 - acc: 3.9271e-04\n",
      "Epoch 51/75\n",
      "16/16 [==============================] - 3s 159ms/step - loss: 3.5156e-04 - acc: 1.2282e-04\n",
      "Epoch 52/75\n",
      "16/16 [==============================] - 2s 147ms/step - loss: 3.6298e-04 - acc: 7.4175e-04\n",
      "Epoch 53/75\n",
      "16/16 [==============================] - 2s 146ms/step - loss: 2.3887e-04 - acc: 1.5817e-04\n",
      "Epoch 54/75\n",
      "16/16 [==============================] - 3s 162ms/step - loss: 3.4393e-04 - acc: 8.9494e-04\n",
      "Epoch 55/75\n",
      "16/16 [==============================] - 3s 171ms/step - loss: 1.5577e-04 - acc: 2.3825e-04\n",
      "Epoch 56/75\n",
      "16/16 [==============================] - 3s 164ms/step - loss: 3.6344e-04 - acc: 1.2282e-04\n",
      "Epoch 57/75\n",
      "16/16 [==============================] - 2s 152ms/step - loss: 2.8440e-04 - acc: 8.9995e-05\n",
      "Epoch 58/75\n",
      "16/16 [==============================] - 2s 152ms/step - loss: 3.0711e-04 - acc: 4.5836e-04\n",
      "Epoch 59/75\n",
      "16/16 [==============================] - 2s 150ms/step - loss: 4.5889e-04 - acc: 5.3495e-04\n",
      "Epoch 60/75\n",
      "16/16 [==============================] - 2s 151ms/step - loss: 3.4554e-04 - acc: 8.9494e-04\n",
      "Epoch 61/75\n",
      "16/16 [==============================] - 3s 167ms/step - loss: 1.6182e-04 - acc: 2.8420e-04\n",
      "Epoch 62/75\n",
      "16/16 [==============================] - 3s 166ms/step - loss: 1.7855e-04 - acc: 8.9494e-04\n",
      "Epoch 63/75\n",
      "16/16 [==============================] - 2s 149ms/step - loss: 1.8807e-04 - acc: 1.5817e-04\n",
      "Epoch 64/75\n",
      "16/16 [==============================] - 2s 153ms/step - loss: 1.8216e-04 - acc: 3.3526e-04\n",
      "Epoch 65/75\n",
      "16/16 [==============================] - 3s 172ms/step - loss: 2.2394e-04 - acc: 3.9271e-04\n",
      "Epoch 66/75\n",
      "16/16 [==============================] - 3s 175ms/step - loss: 4.9144e-04 - acc: 5.3495e-04\n",
      "Epoch 67/75\n",
      "16/16 [==============================] - 3s 157ms/step - loss: 1.3553e-04 - acc: 1.5817e-04\n",
      "Epoch 68/75\n",
      "16/16 [==============================] - 3s 163ms/step - loss: 1.6955e-04 - acc: 3.3526e-04\n",
      "Epoch 69/75\n",
      "16/16 [==============================] - 3s 156ms/step - loss: 4.9489e-04 - acc: 6.2686e-04\n",
      "Epoch 70/75\n",
      "16/16 [==============================] - 3s 158ms/step - loss: 5.0246e-04 - acc: 0.0016\n",
      "Epoch 71/75\n",
      "16/16 [==============================] - 3s 159ms/step - loss: 2.0951e-04 - acc: 0.0011\n",
      "Epoch 72/75\n",
      "16/16 [==============================] - 3s 158ms/step - loss: 4.5942e-04 - acc: 8.9494e-04\n",
      "Epoch 73/75\n",
      "16/16 [==============================] - 3s 162ms/step - loss: 3.3325e-04 - acc: 1.2282e-04\n",
      "Epoch 74/75\n",
      "16/16 [==============================] - 3s 165ms/step - loss: 3.4723e-04 - acc: 2.3825e-04\n",
      "Epoch 75/75\n",
      "16/16 [==============================] - 3s 170ms/step - loss: 2.1973e-04 - acc: 7.4175e-04\n"
     ]
    }
   ],
   "source": [
    "model = Sequential([\n",
    "    LSTM(units=75, return_sequences=True, input_shape=(x_train.shape[1], 1)),\n",
    "    Dropout(0.25),\n",
    "    LSTM(units=75, return_sequences=True),\n",
    "    Dropout(0.25),\n",
    "    LSTM(units=75),\n",
    "    Dropout(0.25),\n",
    "    Dense(units=1)\n",
    "])\n",
    "\n",
    "model.compile(optimizer='Adam', loss='mse', metrics=['acc'])\n",
    "hist = model.fit(x_train, y_train, epochs=75, batch_size=128)"
   ]
  },
  {
   "cell_type": "code",
   "execution_count": 11,
   "id": "likely-alexandria",
   "metadata": {},
   "outputs": [
    {
     "data": {
      "image/png": "[encoded data removed]",
      "text/plain": [
       "<Figure size 432x288 with 1 Axes>"
      ]
     },
     "metadata": {
      "needs_background": "light"
     },
     "output_type": "display_data"
    }
   ],
   "source": [
    "plt.plot(hist.history['acc'])\n",
    "plt.plot(hist.history['loss'])\n",
    "plt.show()"
   ]
  },
  {
   "cell_type": "code",
   "execution_count": 12,
   "id": "widespread-turkish",
   "metadata": {},
   "outputs": [],
   "source": [
    "test_start_time = dt.datetime(2021, 4, 1)\n",
    "test_end_time = dt.datetime.now()"
   ]
  },
  {
   "cell_type": "code",
   "execution_count": 13,
   "id": "normal-translation",
   "metadata": {},
   "outputs": [],
   "source": [
    "test_df = web.DataReader(currency, 'yahoo', test_start_time, test_end_time)\n",
    "actual_prices = test_df['Close'].values\n",
    "\n",
    "total_df = pd.concat((df['Close'], test_df['Close']), axis=0)"
   ]
  },
  {
   "cell_type": "code",
   "execution_count": 14,
   "id": "furnished-monte",
   "metadata": {},
   "outputs": [],
   "source": [
    "model_inputs = total_df[len(total_df) - len(test_df) - prediction_days:].values\n",
    "model_inputs = model_inputs.reshape(-1, 1)\n",
    "model_inputs = scaler.fit_transform(model_inputs)"
   ]
  },
  {
   "cell_type": "code",
   "execution_count": 15,
   "id": "significant-induction",
   "metadata": {},
   "outputs": [],
   "source": [
    "x_test = []\n",
    "\n",
    "for x in range(prediction_days, len(model_inputs)):\n",
    "    x_test.append(model_inputs[x - prediction_days:x, 0])\n",
    "    \n",
    "x_test = np.array(x_test)\n",
    "x_test = np.reshape(x_test, (x_test.shape[0], x_test.shape[1], 1))"
   ]
  },
  {
   "cell_type": "code",
   "execution_count": 16,
   "id": "smart-elizabeth",
   "metadata": {},
   "outputs": [],
   "source": [
    "pred = model.predict(x_test)"
   ]
  },
  {
   "cell_type": "code",
   "execution_count": 17,
   "id": "written-conference",
   "metadata": {},
   "outputs": [],
   "source": [
    "pred = scaler.inverse_transform(pred)"
   ]
  },
  {
   "cell_type": "code",
   "execution_count": 18,
   "id": "driven-senator",
   "metadata": {},
   "outputs": [
    {
     "data": {
      "image/png": "[encoded data removed]",
      "text/plain": [
       "<Figure size 432x288 with 1 Axes>"
      ]
     },
     "metadata": {
      "needs_background": "light"
     },
     "output_type": "display_data"
    }
   ],
   "source": [
    "plt.plot(actual_prices, color='green', label='Actual Prices')\n",
    "plt.plot(pred, color='blue', label='Predicted')\n",
    "plt.legend(loc='upper left')\n",
    "plt.title(currency + \" Price Prediction\")\n",
    "plt.ylabel('Price')\n",
    "plt.show()"
   ]
  },
  {
   "cell_type": "code",
   "execution_count": 19,
   "id": "proprietary-majority",
   "metadata": {},
   "outputs": [],
   "source": [
    "# Bad prediction :d"
   ]
  }
 ],
 "metadata": {
  "kernelspec": {
   "display_name": "Python 3.8.5 64-bit",
   "language": "python",
   "name": "python38564bit9b13fc8a8c5449f8ad604cc2782fb3a5"
  },
  "language_info": {
   "codemirror_mode": {
    "name": "ipython",
    "version": 3
   },
   "file_extension": ".py",
   "mimetype": "text/x-python",
   "name": "python",
   "nbconvert_exporter": "python",
   "pygments_lexer": "ipython3",
   "version": "3.8.5"
  }
 },
 "nbformat": 4,
 "nbformat_minor": 5
}
